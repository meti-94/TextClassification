{
  "nbformat": 4,
  "nbformat_minor": 0,
  "metadata": {
    "colab": {
      "name": "allbands_land-cover-classification-eurosat.ipynb",
      "provenance": [],
      "include_colab_link": true
    },
    "kernelspec": {
      "name": "python3",
      "display_name": "Python 3"
    },
    "gpuClass": "standard",
    "accelerator": "GPU"
  },
  "cells": [
    {
      "cell_type": "markdown",
      "metadata": {
        "id": "view-in-github",
        "colab_type": "text"
      },
      "source": [
        "<a href=\"https://colab.research.google.com/github/meti-94/TextClassification/blob/main/EuroSAT%20Image%20Classification.ipynb\" target=\"_parent\"><img src=\"https://colab.research.google.com/assets/colab-badge.svg\" alt=\"Open In Colab\"/></a>"
      ]
    },
    {
      "cell_type": "markdown",
      "source": [
        "**Installing rasterio to access to geospatial raster data**"
      ],
      "metadata": {
        "id": "dKq6bfBXOMVI"
      }
    },
    {
      "cell_type": "code",
      "source": [
        "pip install rasterio -q"
      ],
      "metadata": {
        "id": "veAf4idsMg83",
        "outputId": "a1023a5a-e75f-4537-ee9d-d42464bb0201",
        "colab": {
          "base_uri": "https://localhost:8080/"
        }
      },
      "execution_count": 1,
      "outputs": [
        {
          "output_type": "stream",
          "name": "stdout",
          "text": [
            "\u001b[?25l     \u001b[90m━━━━━━━━━━━━━━━━━━━━━━━━━━━━━━━━━━━━━━━━\u001b[0m \u001b[32m0.0/20.1 MB\u001b[0m \u001b[31m?\u001b[0m eta \u001b[36m-:--:--\u001b[0m\r\u001b[2K     \u001b[91m━━━━━━\u001b[0m\u001b[90m╺\u001b[0m\u001b[90m━━━━━━━━━━━━━━━━━━━━━━━━━━━━━━━━━\u001b[0m \u001b[32m3.1/20.1 MB\u001b[0m \u001b[31m151.2 MB/s\u001b[0m eta \u001b[36m0:00:01\u001b[0m\r\u001b[2K     \u001b[91m━━━━━━━━━━━━━━━━━\u001b[0m\u001b[90m╺\u001b[0m\u001b[90m━━━━━━━━━━━━━━━━━━━━━━\u001b[0m \u001b[32m8.7/20.1 MB\u001b[0m \u001b[31m127.3 MB/s\u001b[0m eta \u001b[36m0:00:01\u001b[0m\r\u001b[2K     \u001b[91m━━━━━━━━━━━━━━━━━━━━━━━━━━━━━━\u001b[0m\u001b[90m╺\u001b[0m\u001b[90m━━━━━━━━\u001b[0m \u001b[32m15.7/20.1 MB\u001b[0m \u001b[31m198.3 MB/s\u001b[0m eta \u001b[36m0:00:01\u001b[0m\r\u001b[2K     \u001b[91m━━━━━━━━━━━━━━━━━━━━━━━━━━━━━━━━━━━━━━\u001b[0m\u001b[91m╸\u001b[0m \u001b[32m20.1/20.1 MB\u001b[0m \u001b[31m220.9 MB/s\u001b[0m eta \u001b[36m0:00:01\u001b[0m\r\u001b[2K     \u001b[91m━━━━━━━━━━━━━━━━━━━━━━━━━━━━━━━━━━━━━━\u001b[0m\u001b[91m╸\u001b[0m \u001b[32m20.1/20.1 MB\u001b[0m \u001b[31m220.9 MB/s\u001b[0m eta \u001b[36m0:00:01\u001b[0m\r\u001b[2K     \u001b[90m━━━━━━━━━━━━━━━━━━━━━━━━━━━━━━━━━━━━━━━━\u001b[0m \u001b[32m20.1/20.1 MB\u001b[0m \u001b[31m78.5 MB/s\u001b[0m eta \u001b[36m0:00:00\u001b[0m\n",
            "\u001b[?25h"
          ]
        }
      ]
    },
    {
      "cell_type": "markdown",
      "source": [
        "**Downloading and Extracting EuroSAT dataset**"
      ],
      "metadata": {
        "id": "OW1z2FBaOdIq"
      }
    },
    {
      "cell_type": "code",
      "source": [
        "!wget --no-check-certificate https://madm.dfki.de/files/sentinel/EuroSATallBands.zip -q\n",
        "!unzip -qq \"/content/EuroSATallBands.zip\""
      ],
      "metadata": {
        "id": "o2s3KKQIA_66"
      },
      "execution_count": 2,
      "outputs": []
    },
    {
      "cell_type": "code",
      "metadata": {
        "id": "0q3gStHC6fRC"
      },
      "source": [
        "# from urllib.request import urlopen\n",
        "# from io import BytesIO\n",
        "# from zipfile import ZipFile\n",
        "# from subprocess import Popen\n",
        "# from os import chmod\n",
        "# from os.path import isfile"
      ],
      "execution_count": null,
      "outputs": []
    },
    {
      "cell_type": "markdown",
      "source": [
        "**Importing necessary packages**"
      ],
      "metadata": {
        "id": "HiVG2_2JO0nF"
      }
    },
    {
      "cell_type": "code",
      "metadata": {
        "id": "fV8CW4hj63_J"
      },
      "source": [
        "import os\n",
        "from fnmatch import fnmatch\n",
        "import numpy as np\n",
        "import pandas as pd\n",
        "import matplotlib.pyplot as plt\n",
        "import seaborn as sns\n",
        "import os, cv2, json, random, itertools, rasterio, math, time, psutil\n",
        "\n",
        "from tqdm import tqdm\n",
        "# from IPython.display import SVG\n",
        "from tensorflow.keras.utils import plot_model, model_to_dot, to_categorical, Sequence\n",
        "from sklearn.model_selection import train_test_split\n",
        "from sklearn.metrics import confusion_matrix, f1_score\n",
        "from sklearn.preprocessing import *\n",
        "\n",
        "from tensorflow.keras.models import Sequential, Model, load_model\n",
        "from tensorflow.keras.layers import (Add, Input, Conv2D, Dropout, Activation, BatchNormalization, MaxPooling2D, ZeroPadding2D, AveragePooling2D, Flatten, Dense, Concatenate)\n",
        "from tensorflow.keras.optimizers import Adam, SGD\n",
        "from tensorflow.keras.callbacks import TensorBoard, ModelCheckpoint, Callback, LearningRateScheduler\n",
        "from tensorflow.keras.preprocessing.image import ImageDataGenerator\n",
        "from tensorflow.keras.initializers import *\n",
        "from tensorflow.keras.regularizers import *\n",
        "\n",
        "# from tensorflow.keras.preprocessing.image import img_to_array, load_img"
      ],
      "execution_count": 3,
      "outputs": []
    },
    {
      "cell_type": "markdown",
      "source": [
        "**Writing helper functions**"
      ],
      "metadata": {
        "id": "lL9aRB4sPCqA"
      }
    },
    {
      "cell_type": "code",
      "metadata": {
        "id": "JBGDLD0a7f8z"
      },
      "source": [
        "def show_final_history(history):\n",
        "    \n",
        "    plt.style.use(\"ggplot\")\n",
        "    fig, ax = plt.subplots(1,2,figsize=(15,5))\n",
        "    \n",
        "    ax[0].set_title('Loss')\n",
        "    ax[1].set_title('Accuracy')\n",
        "    \n",
        "    ax[0].plot(history.history['loss'], 'r-', label='Training Loss')\n",
        "    ax[0].plot(history.history['val_loss'], 'g-', label='Validation Loss')\n",
        "    ax[1].plot(history.history['categorical_accuracy'], 'r-', label='Training Accuracy')\n",
        "    ax[1].plot(history.history['val_categorical_accuracy'], 'g-', label='Validation Accuracy')\n",
        "    \n",
        "    ax[0].legend(loc='upper right')\n",
        "    ax[1].legend(loc='lower right')\n",
        "    \n",
        "    plt.show();\n",
        "    pass\n"
      ],
      "execution_count": 4,
      "outputs": []
    },
    {
      "cell_type": "code",
      "metadata": {
        "id": "ymOyyV7z7pQR"
      },
      "source": [
        "def plot_learning_rate(loss_history):\n",
        "    \n",
        "    plt.style.use(\"ggplot\")\n",
        "    \n",
        "    plt.plot(np.arange(0,len(loss_history.lr)), loss_history.lr)\n",
        "    plt.show();\n",
        "    pass\n"
      ],
      "execution_count": 5,
      "outputs": []
    },
    {
      "cell_type": "code",
      "metadata": {
        "id": "ihZLtxEN7rUS"
      },
      "source": [
        "def plot_confusion_matrix(cm, classes, title='Confusion Matrix', cmap=plt.cm.Blues):\n",
        "    \n",
        "    cm = cm.astype('float')/cm.sum(axis=1)[:,np.newaxis]\n",
        "    plt.figure(figsize=(10,10))\n",
        "    plt.imshow(cm, interpolation='nearest', cmap=cmap)\n",
        "    plt.title(title)\n",
        "    plt.colorbar();\n",
        "    \n",
        "    tick_marks = np.arange(len(classes))\n",
        "    plt.xticks(tick_marks, classes, rotation=90)\n",
        "    plt.yticks(tick_marks, classes)\n",
        "    \n",
        "    fmt = '.2f'\n",
        "    thresh = cm.max()/2.0\n",
        "    \n",
        "    for i,j in itertools.product(range(cm.shape[0]), range(cm.shape[1])):\n",
        "        \n",
        "        plt.text(j,i, format(cm[i,j], fmt),\n",
        "                horizontalalignment = 'center',\n",
        "                color = \"white\" if cm[i,j] > thresh else \"black\")\n",
        "        pass\n",
        "    \n",
        "    plt.ylabel(\"True Label\")\n",
        "    plt.xlabel(\"Predicted Label\")\n",
        "    plt.grid(False);\n",
        "    pass\n"
      ],
      "execution_count": 6,
      "outputs": []
    },
    {
      "cell_type": "markdown",
      "source": [
        "**Reading Dataset, Splitting Dataset**"
      ],
      "metadata": {
        "id": "m8Zgxp4FPJdk"
      }
    },
    {
      "cell_type": "code",
      "source": [
        "pattern = \"*.tif\"\n",
        "def get_files(root):\n",
        "  files_name = []\n",
        "  for path, subdirs, files in os.walk(root):\n",
        "      for name in files:\n",
        "          if fnmatch(name, pattern):\n",
        "              files_name.append(os.path.join(path, name))\n",
        "  return files_name\n",
        "\n",
        "files = get_files('/content/ds')\n",
        "dataset = pd.DataFrame({\n",
        "    'path':files\n",
        "})\n",
        "dataset['label'] = dataset['path'].apply(lambda item:str(item).split(r'/')[-1].split('_')[0])\n",
        "classes = list(set(dataset['label'].to_list()))\n",
        "mapping = {cls:i for i, cls in enumerate(classes)}\n",
        "dataset['Label'] = dataset['label'].apply(lambda item:mapping[item])\n",
        "dataset.head()"
      ],
      "metadata": {
        "id": "BDc8w2lSD7gm",
        "outputId": "b8cd89b2-d3e9-41ce-f520-fbde5f5fe40c",
        "colab": {
          "base_uri": "https://localhost:8080/",
          "height": 206
        }
      },
      "execution_count": 8,
      "outputs": [
        {
          "output_type": "execute_result",
          "data": {
            "text/plain": [
              "                                                path    label  Label\n",
              "0  /content/ds/images/remote_sensing/otherDataset...  Highway      2\n",
              "1  /content/ds/images/remote_sensing/otherDataset...  Highway      2\n",
              "2  /content/ds/images/remote_sensing/otherDataset...  Highway      2\n",
              "3  /content/ds/images/remote_sensing/otherDataset...  Highway      2\n",
              "4  /content/ds/images/remote_sensing/otherDataset...  Highway      2"
            ],
            "text/html": [
              "\n",
              "  <div id=\"df-f9d1fec4-c949-4ffd-812e-525f20b3eae0\">\n",
              "    <div class=\"colab-df-container\">\n",
              "      <div>\n",
              "<style scoped>\n",
              "    .dataframe tbody tr th:only-of-type {\n",
              "        vertical-align: middle;\n",
              "    }\n",
              "\n",
              "    .dataframe tbody tr th {\n",
              "        vertical-align: top;\n",
              "    }\n",
              "\n",
              "    .dataframe thead th {\n",
              "        text-align: right;\n",
              "    }\n",
              "</style>\n",
              "<table border=\"1\" class=\"dataframe\">\n",
              "  <thead>\n",
              "    <tr style=\"text-align: right;\">\n",
              "      <th></th>\n",
              "      <th>path</th>\n",
              "      <th>label</th>\n",
              "      <th>Label</th>\n",
              "    </tr>\n",
              "  </thead>\n",
              "  <tbody>\n",
              "    <tr>\n",
              "      <th>0</th>\n",
              "      <td>/content/ds/images/remote_sensing/otherDataset...</td>\n",
              "      <td>Highway</td>\n",
              "      <td>2</td>\n",
              "    </tr>\n",
              "    <tr>\n",
              "      <th>1</th>\n",
              "      <td>/content/ds/images/remote_sensing/otherDataset...</td>\n",
              "      <td>Highway</td>\n",
              "      <td>2</td>\n",
              "    </tr>\n",
              "    <tr>\n",
              "      <th>2</th>\n",
              "      <td>/content/ds/images/remote_sensing/otherDataset...</td>\n",
              "      <td>Highway</td>\n",
              "      <td>2</td>\n",
              "    </tr>\n",
              "    <tr>\n",
              "      <th>3</th>\n",
              "      <td>/content/ds/images/remote_sensing/otherDataset...</td>\n",
              "      <td>Highway</td>\n",
              "      <td>2</td>\n",
              "    </tr>\n",
              "    <tr>\n",
              "      <th>4</th>\n",
              "      <td>/content/ds/images/remote_sensing/otherDataset...</td>\n",
              "      <td>Highway</td>\n",
              "      <td>2</td>\n",
              "    </tr>\n",
              "  </tbody>\n",
              "</table>\n",
              "</div>\n",
              "      <button class=\"colab-df-convert\" onclick=\"convertToInteractive('df-f9d1fec4-c949-4ffd-812e-525f20b3eae0')\"\n",
              "              title=\"Convert this dataframe to an interactive table.\"\n",
              "              style=\"display:none;\">\n",
              "        \n",
              "  <svg xmlns=\"http://www.w3.org/2000/svg\" height=\"24px\"viewBox=\"0 0 24 24\"\n",
              "       width=\"24px\">\n",
              "    <path d=\"M0 0h24v24H0V0z\" fill=\"none\"/>\n",
              "    <path d=\"M18.56 5.44l.94 2.06.94-2.06 2.06-.94-2.06-.94-.94-2.06-.94 2.06-2.06.94zm-11 1L8.5 8.5l.94-2.06 2.06-.94-2.06-.94L8.5 2.5l-.94 2.06-2.06.94zm10 10l.94 2.06.94-2.06 2.06-.94-2.06-.94-.94-2.06-.94 2.06-2.06.94z\"/><path d=\"M17.41 7.96l-1.37-1.37c-.4-.4-.92-.59-1.43-.59-.52 0-1.04.2-1.43.59L10.3 9.45l-7.72 7.72c-.78.78-.78 2.05 0 2.83L4 21.41c.39.39.9.59 1.41.59.51 0 1.02-.2 1.41-.59l7.78-7.78 2.81-2.81c.8-.78.8-2.07 0-2.86zM5.41 20L4 18.59l7.72-7.72 1.47 1.35L5.41 20z\"/>\n",
              "  </svg>\n",
              "      </button>\n",
              "      \n",
              "  <style>\n",
              "    .colab-df-container {\n",
              "      display:flex;\n",
              "      flex-wrap:wrap;\n",
              "      gap: 12px;\n",
              "    }\n",
              "\n",
              "    .colab-df-convert {\n",
              "      background-color: #E8F0FE;\n",
              "      border: none;\n",
              "      border-radius: 50%;\n",
              "      cursor: pointer;\n",
              "      display: none;\n",
              "      fill: #1967D2;\n",
              "      height: 32px;\n",
              "      padding: 0 0 0 0;\n",
              "      width: 32px;\n",
              "    }\n",
              "\n",
              "    .colab-df-convert:hover {\n",
              "      background-color: #E2EBFA;\n",
              "      box-shadow: 0px 1px 2px rgba(60, 64, 67, 0.3), 0px 1px 3px 1px rgba(60, 64, 67, 0.15);\n",
              "      fill: #174EA6;\n",
              "    }\n",
              "\n",
              "    [theme=dark] .colab-df-convert {\n",
              "      background-color: #3B4455;\n",
              "      fill: #D2E3FC;\n",
              "    }\n",
              "\n",
              "    [theme=dark] .colab-df-convert:hover {\n",
              "      background-color: #434B5C;\n",
              "      box-shadow: 0px 1px 3px 1px rgba(0, 0, 0, 0.15);\n",
              "      filter: drop-shadow(0px 1px 2px rgba(0, 0, 0, 0.3));\n",
              "      fill: #FFFFFF;\n",
              "    }\n",
              "  </style>\n",
              "\n",
              "      <script>\n",
              "        const buttonEl =\n",
              "          document.querySelector('#df-f9d1fec4-c949-4ffd-812e-525f20b3eae0 button.colab-df-convert');\n",
              "        buttonEl.style.display =\n",
              "          google.colab.kernel.accessAllowed ? 'block' : 'none';\n",
              "\n",
              "        async function convertToInteractive(key) {\n",
              "          const element = document.querySelector('#df-f9d1fec4-c949-4ffd-812e-525f20b3eae0');\n",
              "          const dataTable =\n",
              "            await google.colab.kernel.invokeFunction('convertToInteractive',\n",
              "                                                     [key], {});\n",
              "          if (!dataTable) return;\n",
              "\n",
              "          const docLinkHtml = 'Like what you see? Visit the ' +\n",
              "            '<a target=\"_blank\" href=https://colab.research.google.com/notebooks/data_table.ipynb>data table notebook</a>'\n",
              "            + ' to learn more about interactive tables.';\n",
              "          element.innerHTML = '';\n",
              "          dataTable['output_type'] = 'display_data';\n",
              "          await google.colab.output.renderOutput(dataTable, element);\n",
              "          const docLink = document.createElement('div');\n",
              "          docLink.innerHTML = docLinkHtml;\n",
              "          element.appendChild(docLink);\n",
              "        }\n",
              "      </script>\n",
              "    </div>\n",
              "  </div>\n",
              "  "
            ]
          },
          "metadata": {},
          "execution_count": 8
        }
      ]
    },
    {
      "cell_type": "code",
      "source": [
        "train_df, test_df = train_test_split(dataset, random_state=42, test_size=.25, stratify=dataset['label'].to_list())\n",
        "len(train_df), len(test_df)"
      ],
      "metadata": {
        "id": "e9vNWcb0PsoQ",
        "outputId": "a3a5f9b1-e1f2-4c44-de20-17c3fd03c60b",
        "colab": {
          "base_uri": "https://localhost:8080/"
        }
      },
      "execution_count": 9,
      "outputs": [
        {
          "output_type": "execute_result",
          "data": {
            "text/plain": [
              "(20250, 6750)"
            ]
          },
          "metadata": {},
          "execution_count": 9
        }
      ]
    },
    {
      "cell_type": "markdown",
      "source": [
        "**Helper Functions for Preparing Data**"
      ],
      "metadata": {
        "id": "mn3cjXubPutO"
      }
    },
    {
      "cell_type": "code",
      "metadata": {
        "id": "pxTp3Qve_IPd"
      },
      "source": [
        "def Normalise(arr_band):    \n",
        "    arr_band = Normalizer().fit_transform(arr_band)\n",
        "    return arr_band"
      ],
      "execution_count": 10,
      "outputs": []
    },
    {
      "cell_type": "code",
      "source": [
        "bands = {'1':1,'2':2,'3':3,'4':4,'5':5,'6':6,'7':7,'8':8,'8a':9,'9':10,'10':11,'11':12,'12':13}"
      ],
      "metadata": {
        "id": "BCOeaCExPqMG"
      },
      "execution_count": 11,
      "outputs": []
    },
    {
      "cell_type": "code",
      "metadata": {
        "id": "DlJiXAyZ_L3r"
      },
      "source": [
        "def data_generator(df, num_classes, batch_size = 10, target_size = 64):\n",
        "    i = 0\n",
        "    classes = set()\n",
        "    num_samples = df.shape[0]\n",
        "    \n",
        "    while True:\n",
        "        for offset in range(0, num_samples, batch_size):\n",
        "            batch_samples_idx = df.index[offset:offset+batch_size]\n",
        "\n",
        "            X, y = [], []\n",
        "\n",
        "            for i in batch_samples_idx:\n",
        "                img_path = df.loc[i,'path']\n",
        "                label = df.loc[i,'Label']\n",
        "\n",
        "                src = rasterio.open(img_path)\n",
        "\n",
        "                arr_3, arr_4, arr_8 = src.read(bands['3']), src.read(bands['4']), src.read(bands['8']) \n",
        "                arr_6, arr_7 = src.read(bands['6']), src.read(bands['7'])\n",
        "                arr_11 = src.read(bands['11'])\n",
        "\n",
        "                arr_3 = np.array(arr_3, dtype=np.float32)\n",
        "                arr_4 = np.array(arr_4, dtype=np.float32)\n",
        "                arr_6, arr_7 = np.array(arr_6, dtype=np.float32), np.array(arr_7, dtype=np.float32)\n",
        "                arr_8 = np.array(arr_8, dtype=np.float32)\n",
        "                arr_11 = np.array(arr_11, dtype=np.float32)\n",
        "\n",
        "                arr_3 = Normalise(arr_3)\n",
        "                arr_4 = Normalise(arr_4)\n",
        "                arr_6, arr_7 = Normalise(arr_6), Normalise(arr_7)\n",
        "                arr_8 = Normalise(arr_8)\n",
        "                arr_11 = Normalise(arr_11)\n",
        "\n",
        "                bands_10_20 = np.dstack((arr_3, arr_4, arr_6, arr_7, arr_8, arr_11))\n",
        "\n",
        "                X.append(bands_10_20)\n",
        "                y.append(label)\n",
        "                pass\n",
        "\n",
        "            X = np.array(X)\n",
        "            y = np.array(y)\n",
        "            y = to_categorical(y, num_classes = num_classes)\n",
        "            \n",
        "            yield X, y\n",
        "            pass\n",
        "        pass\n",
        "    pass\n"
      ],
      "execution_count": 12,
      "outputs": []
    },
    {
      "cell_type": "markdown",
      "source": [
        "**Forming Memory-friendly Data Generators**"
      ],
      "metadata": {
        "id": "VAUlUHXXP8Rx"
      }
    },
    {
      "cell_type": "code",
      "metadata": {
        "id": "SMkIcxNo_R4-"
      },
      "source": [
        "train_generator = data_generator(train_df, num_classes = 10, batch_size = 10)\n",
        "val_generator = data_generator(test_df, num_classes = 10, batch_size = 10)"
      ],
      "execution_count": 13,
      "outputs": []
    },
    {
      "cell_type": "code",
      "metadata": {
        "colab": {
          "base_uri": "https://localhost:8080/"
        },
        "id": "of8qp_WT_a1F",
        "outputId": "4a2f3269-8cf5-47e8-b1e0-06953dae3654"
      },
      "source": [
        "train_labels = train_df.loc[:,'Label']\n",
        "train_labels = np.array(train_labels)\n",
        "\n",
        "num_train_samples = train_labels.shape[0]\n",
        "\n",
        "val_df = test_df\n",
        "val_labels = val_df.loc[:,'Label']\n",
        "val_labels = np.array(val_labels)\n",
        "\n",
        "num_val_samples = val_labels.shape[0]\n",
        "\n",
        "num_train_samples, num_val_samples"
      ],
      "execution_count": 14,
      "outputs": [
        {
          "output_type": "execute_result",
          "data": {
            "text/plain": [
              "(20250, 6750)"
            ]
          },
          "metadata": {},
          "execution_count": 14
        }
      ]
    },
    {
      "cell_type": "code",
      "metadata": {
        "id": "Xw61xwBT_hTw"
      },
      "source": [
        "def spectral_block(X,filters,stage,s=1):\n",
        "    \n",
        "    squeeze_base_name = 'squeeze_' + str(stage) + '_branch'\n",
        "    bn_base_name = 'bn_' + str(stage) + \"_branch\"\n",
        "    \n",
        "    F1,F2,F3 = filters\n",
        "    \n",
        "    X = Conv2D(filters=F1, kernel_size=(1,1), strides=(s,s), padding='same', name=squeeze_base_name+'a')(X)\n",
        "    \n",
        "    X_11 = Conv2D(filters=F2, kernel_size=(1,1), strides=(s,s), padding='same', name=squeeze_base_name+'b')(X)\n",
        "    X_33 = Conv2D(filters=F3, kernel_size=(3,3), strides=(s,s), padding='same', name=squeeze_base_name+'c')(X)\n",
        "    \n",
        "    X = Concatenate(name=\"concatenate_\"+str(stage))([X_11, X_33])\n",
        "    X = BatchNormalization(name=bn_base_name)(X)\n",
        "    \n",
        "    X = Activation(\"relu\", name=\"spectral\"+str(stage))(X)\n",
        "    \n",
        "    return X\n",
        "    pass"
      ],
      "execution_count": 15,
      "outputs": []
    },
    {
      "cell_type": "markdown",
      "source": [
        "**Defining the Model**"
      ],
      "metadata": {
        "id": "XOgvcQPyQfrf"
      }
    },
    {
      "cell_type": "code",
      "metadata": {
        "id": "439P4nPL_pww"
      },
      "source": [
        "def SpectrumNet(input_shape, classes):\n",
        "    \n",
        "    X_input = Input(input_shape, name=\"input\")\n",
        "    \n",
        "    X = Conv2D(96, (1,1), strides=(2,2), name='conv1', padding=\"same\")(X_input)\n",
        "    \n",
        "    X = spectral_block(X, [16,96,32], 2)\n",
        "    X = spectral_block(X, [16,96,32], 3)\n",
        "    X = spectral_block(X, [32,192,64], 4)\n",
        "    \n",
        "    X = MaxPooling2D(pool_size=(2,2), strides=(2,2), padding=\"same\", name=\"maxpool4\")(X)\n",
        "    \n",
        "    X = spectral_block(X, [32,192,64], 5)\n",
        "    X = spectral_block(X, [48, 288, 96], 6)\n",
        "    X = spectral_block(X, [48, 288, 96], 7)\n",
        "    X = spectral_block(X, [64, 384, 128], 8)\n",
        "    \n",
        "    X = MaxPooling2D(pool_size=(2,2), strides=(2,2), padding=\"same\", name=\"maxpool8\")(X)\n",
        "    \n",
        "    X = spectral_block(X, [64,384,128], 9)\n",
        "    \n",
        "    X = Conv2D(10, kernel_size=(1,1), strides=(1,1), name=\"conv10\", padding='same')(X)\n",
        "    X = BatchNormalization(name=\"conv10_batchnormalisation\")(X)\n",
        "    X = Activation(\"relu\", name=\"conv10_activation\")(X)\n",
        "    \n",
        "    X = AveragePooling2D(pool_size=(8,8), strides=(1,1), name=\"avgpool10\")(X)\n",
        "    \n",
        "    X = Flatten(name=\"flatten10\")(X)\n",
        "    \n",
        "    X = Activation(\"softmax\", name=\"output\")(X)\n",
        "    \n",
        "    model = Model(inputs=X_input, outputs=X, name=\"SpectrumNet\")\n",
        "    \n",
        "    return model\n",
        "    pass"
      ],
      "execution_count": 21,
      "outputs": []
    },
    {
      "cell_type": "code",
      "metadata": {
        "id": "ZfdSmt2F_u26"
      },
      "source": [
        "model = SpectrumNet(input_shape = (64,64,6), classes = 10)"
      ],
      "execution_count": 22,
      "outputs": []
    },
    {
      "cell_type": "code",
      "metadata": {
        "colab": {
          "base_uri": "https://localhost:8080/"
        },
        "id": "ZSSgiZ4g_xBZ",
        "outputId": "a1f4e6c4-8ec5-4a09-939b-658cc6e6e42f"
      },
      "source": [
        "model.summary()"
      ],
      "execution_count": 23,
      "outputs": [
        {
          "output_type": "stream",
          "name": "stdout",
          "text": [
            "Model: \"SpectrumNet\"\n",
            "__________________________________________________________________________________________________\n",
            " Layer (type)                   Output Shape         Param #     Connected to                     \n",
            "==================================================================================================\n",
            " input (InputLayer)             [(None, 64, 64, 6)]  0           []                               \n",
            "                                                                                                  \n",
            " conv1 (Conv2D)                 (None, 32, 32, 96)   672         ['input[0][0]']                  \n",
            "                                                                                                  \n",
            " squeeze_2_brancha (Conv2D)     (None, 32, 32, 16)   1552        ['conv1[0][0]']                  \n",
            "                                                                                                  \n",
            " squeeze_2_branchb (Conv2D)     (None, 32, 32, 96)   1632        ['squeeze_2_brancha[0][0]']      \n",
            "                                                                                                  \n",
            " squeeze_2_branchc (Conv2D)     (None, 32, 32, 32)   4640        ['squeeze_2_brancha[0][0]']      \n",
            "                                                                                                  \n",
            " concatenate_2 (Concatenate)    (None, 32, 32, 128)  0           ['squeeze_2_branchb[0][0]',      \n",
            "                                                                  'squeeze_2_branchc[0][0]']      \n",
            "                                                                                                  \n",
            " bn_2_branch (BatchNormalizatio  (None, 32, 32, 128)  512        ['concatenate_2[0][0]']          \n",
            " n)                                                                                               \n",
            "                                                                                                  \n",
            " spectral2 (Activation)         (None, 32, 32, 128)  0           ['bn_2_branch[0][0]']            \n",
            "                                                                                                  \n",
            " squeeze_3_brancha (Conv2D)     (None, 32, 32, 16)   2064        ['spectral2[0][0]']              \n",
            "                                                                                                  \n",
            " squeeze_3_branchb (Conv2D)     (None, 32, 32, 96)   1632        ['squeeze_3_brancha[0][0]']      \n",
            "                                                                                                  \n",
            " squeeze_3_branchc (Conv2D)     (None, 32, 32, 32)   4640        ['squeeze_3_brancha[0][0]']      \n",
            "                                                                                                  \n",
            " concatenate_3 (Concatenate)    (None, 32, 32, 128)  0           ['squeeze_3_branchb[0][0]',      \n",
            "                                                                  'squeeze_3_branchc[0][0]']      \n",
            "                                                                                                  \n",
            " bn_3_branch (BatchNormalizatio  (None, 32, 32, 128)  512        ['concatenate_3[0][0]']          \n",
            " n)                                                                                               \n",
            "                                                                                                  \n",
            " spectral3 (Activation)         (None, 32, 32, 128)  0           ['bn_3_branch[0][0]']            \n",
            "                                                                                                  \n",
            " squeeze_4_brancha (Conv2D)     (None, 32, 32, 32)   4128        ['spectral3[0][0]']              \n",
            "                                                                                                  \n",
            " squeeze_4_branchb (Conv2D)     (None, 32, 32, 192)  6336        ['squeeze_4_brancha[0][0]']      \n",
            "                                                                                                  \n",
            " squeeze_4_branchc (Conv2D)     (None, 32, 32, 64)   18496       ['squeeze_4_brancha[0][0]']      \n",
            "                                                                                                  \n",
            " concatenate_4 (Concatenate)    (None, 32, 32, 256)  0           ['squeeze_4_branchb[0][0]',      \n",
            "                                                                  'squeeze_4_branchc[0][0]']      \n",
            "                                                                                                  \n",
            " bn_4_branch (BatchNormalizatio  (None, 32, 32, 256)  1024       ['concatenate_4[0][0]']          \n",
            " n)                                                                                               \n",
            "                                                                                                  \n",
            " spectral4 (Activation)         (None, 32, 32, 256)  0           ['bn_4_branch[0][0]']            \n",
            "                                                                                                  \n",
            " maxpool4 (MaxPooling2D)        (None, 16, 16, 256)  0           ['spectral4[0][0]']              \n",
            "                                                                                                  \n",
            " squeeze_5_brancha (Conv2D)     (None, 16, 16, 32)   8224        ['maxpool4[0][0]']               \n",
            "                                                                                                  \n",
            " squeeze_5_branchb (Conv2D)     (None, 16, 16, 192)  6336        ['squeeze_5_brancha[0][0]']      \n",
            "                                                                                                  \n",
            " squeeze_5_branchc (Conv2D)     (None, 16, 16, 64)   18496       ['squeeze_5_brancha[0][0]']      \n",
            "                                                                                                  \n",
            " concatenate_5 (Concatenate)    (None, 16, 16, 256)  0           ['squeeze_5_branchb[0][0]',      \n",
            "                                                                  'squeeze_5_branchc[0][0]']      \n",
            "                                                                                                  \n",
            " bn_5_branch (BatchNormalizatio  (None, 16, 16, 256)  1024       ['concatenate_5[0][0]']          \n",
            " n)                                                                                               \n",
            "                                                                                                  \n",
            " spectral5 (Activation)         (None, 16, 16, 256)  0           ['bn_5_branch[0][0]']            \n",
            "                                                                                                  \n",
            " squeeze_6_brancha (Conv2D)     (None, 16, 16, 48)   12336       ['spectral5[0][0]']              \n",
            "                                                                                                  \n",
            " squeeze_6_branchb (Conv2D)     (None, 16, 16, 288)  14112       ['squeeze_6_brancha[0][0]']      \n",
            "                                                                                                  \n",
            " squeeze_6_branchc (Conv2D)     (None, 16, 16, 96)   41568       ['squeeze_6_brancha[0][0]']      \n",
            "                                                                                                  \n",
            " concatenate_6 (Concatenate)    (None, 16, 16, 384)  0           ['squeeze_6_branchb[0][0]',      \n",
            "                                                                  'squeeze_6_branchc[0][0]']      \n",
            "                                                                                                  \n",
            " bn_6_branch (BatchNormalizatio  (None, 16, 16, 384)  1536       ['concatenate_6[0][0]']          \n",
            " n)                                                                                               \n",
            "                                                                                                  \n",
            " spectral6 (Activation)         (None, 16, 16, 384)  0           ['bn_6_branch[0][0]']            \n",
            "                                                                                                  \n",
            " squeeze_7_brancha (Conv2D)     (None, 16, 16, 48)   18480       ['spectral6[0][0]']              \n",
            "                                                                                                  \n",
            " squeeze_7_branchb (Conv2D)     (None, 16, 16, 288)  14112       ['squeeze_7_brancha[0][0]']      \n",
            "                                                                                                  \n",
            " squeeze_7_branchc (Conv2D)     (None, 16, 16, 96)   41568       ['squeeze_7_brancha[0][0]']      \n",
            "                                                                                                  \n",
            " concatenate_7 (Concatenate)    (None, 16, 16, 384)  0           ['squeeze_7_branchb[0][0]',      \n",
            "                                                                  'squeeze_7_branchc[0][0]']      \n",
            "                                                                                                  \n",
            " bn_7_branch (BatchNormalizatio  (None, 16, 16, 384)  1536       ['concatenate_7[0][0]']          \n",
            " n)                                                                                               \n",
            "                                                                                                  \n",
            " spectral7 (Activation)         (None, 16, 16, 384)  0           ['bn_7_branch[0][0]']            \n",
            "                                                                                                  \n",
            " squeeze_8_brancha (Conv2D)     (None, 16, 16, 64)   24640       ['spectral7[0][0]']              \n",
            "                                                                                                  \n",
            " squeeze_8_branchb (Conv2D)     (None, 16, 16, 384)  24960       ['squeeze_8_brancha[0][0]']      \n",
            "                                                                                                  \n",
            " squeeze_8_branchc (Conv2D)     (None, 16, 16, 128)  73856       ['squeeze_8_brancha[0][0]']      \n",
            "                                                                                                  \n",
            " concatenate_8 (Concatenate)    (None, 16, 16, 512)  0           ['squeeze_8_branchb[0][0]',      \n",
            "                                                                  'squeeze_8_branchc[0][0]']      \n",
            "                                                                                                  \n",
            " bn_8_branch (BatchNormalizatio  (None, 16, 16, 512)  2048       ['concatenate_8[0][0]']          \n",
            " n)                                                                                               \n",
            "                                                                                                  \n",
            " spectral8 (Activation)         (None, 16, 16, 512)  0           ['bn_8_branch[0][0]']            \n",
            "                                                                                                  \n",
            " maxpool8 (MaxPooling2D)        (None, 8, 8, 512)    0           ['spectral8[0][0]']              \n",
            "                                                                                                  \n",
            " squeeze_9_brancha (Conv2D)     (None, 8, 8, 64)     32832       ['maxpool8[0][0]']               \n",
            "                                                                                                  \n",
            " squeeze_9_branchb (Conv2D)     (None, 8, 8, 384)    24960       ['squeeze_9_brancha[0][0]']      \n",
            "                                                                                                  \n",
            " squeeze_9_branchc (Conv2D)     (None, 8, 8, 128)    73856       ['squeeze_9_brancha[0][0]']      \n",
            "                                                                                                  \n",
            " concatenate_9 (Concatenate)    (None, 8, 8, 512)    0           ['squeeze_9_branchb[0][0]',      \n",
            "                                                                  'squeeze_9_branchc[0][0]']      \n",
            "                                                                                                  \n",
            " bn_9_branch (BatchNormalizatio  (None, 8, 8, 512)   2048        ['concatenate_9[0][0]']          \n",
            " n)                                                                                               \n",
            "                                                                                                  \n",
            " spectral9 (Activation)         (None, 8, 8, 512)    0           ['bn_9_branch[0][0]']            \n",
            "                                                                                                  \n",
            " conv10 (Conv2D)                (None, 8, 8, 10)     5130        ['spectral9[0][0]']              \n",
            "                                                                                                  \n",
            " conv10_batchnormalisation (Bat  (None, 8, 8, 10)    40          ['conv10[0][0]']                 \n",
            " chNormalization)                                                                                 \n",
            "                                                                                                  \n",
            " conv10_activation (Activation)  (None, 8, 8, 10)    0           ['conv10_batchnormalisation[0][0]\n",
            "                                                                 ']                               \n",
            "                                                                                                  \n",
            " avgpool10 (AveragePooling2D)   (None, 1, 1, 10)     0           ['conv10_activation[0][0]']      \n",
            "                                                                                                  \n",
            " flatten10 (Flatten)            (None, 10)           0           ['avgpool10[0][0]']              \n",
            "                                                                                                  \n",
            " output (Activation)            (None, 10)           0           ['flatten10[0][0]']              \n",
            "                                                                                                  \n",
            "==================================================================================================\n",
            "Total params: 491,538\n",
            "Trainable params: 486,398\n",
            "Non-trainable params: 5,140\n",
            "__________________________________________________________________________________________________\n"
          ]
        }
      ]
    },
    {
      "cell_type": "markdown",
      "source": [
        "**Adding Appropriate Callbacks and Classes' Weight**"
      ],
      "metadata": {
        "id": "BHezy83AQpXB"
      }
    },
    {
      "cell_type": "code",
      "metadata": {
        "id": "zaIR2oBdANN2"
      },
      "source": [
        "checkpoint = ModelCheckpoint(\"6bands_weights_v5-5.h5\", monitor='val_categorical_accuracy', verbose=1, save_best_only=True, mode='max')\n",
        "logs = TensorBoard(\"6bands-logs\", histogram_freq=1)"
      ],
      "execution_count": 28,
      "outputs": []
    },
    {
      "cell_type": "code",
      "metadata": {
        "id": "_F7l_lGQA__o"
      },
      "source": [
        "def step_decay(epoch):\n",
        "   initial_lrate = 0.001\n",
        "   drop = 0.10\n",
        "   epochs_drop = 30.0\n",
        "   lrate = initial_lrate * math.pow(drop,  \n",
        "           math.floor((1+epoch)/epochs_drop))\n",
        "   return lrate"
      ],
      "execution_count": 29,
      "outputs": []
    },
    {
      "cell_type": "code",
      "metadata": {
        "id": "qvdTy-BvBTbT"
      },
      "source": [
        "class LossHistory(Callback):\n",
        "    def on_train_begin(self, logs={}):\n",
        "       self.losses = []\n",
        "       self.lr = []\n",
        " \n",
        "    def on_epoch_end(self, batch, logs={}):\n",
        "       self.losses.append(logs.get('loss'))\n",
        "       self.lr.append(step_decay(len(self.losses)))\n"
      ],
      "execution_count": 30,
      "outputs": []
    },
    {
      "cell_type": "code",
      "metadata": {
        "id": "9jWSOGTcBU6V"
      },
      "source": [
        "loss_history = LossHistory()\n",
        "lrate = LearningRateScheduler(step_decay)\n"
      ],
      "execution_count": 31,
      "outputs": []
    },
    {
      "cell_type": "code",
      "metadata": {
        "id": "3gRyI4QhBWe9"
      },
      "source": [
        "train_labels_encoded = to_categorical(train_labels,num_classes=10)\n",
        "\n",
        "classTotals = train_labels_encoded.sum(axis=0)\n",
        "classWeight = {}\n",
        "\n",
        "for i in range(len(classTotals)):\n",
        "    classWeight[i] = classTotals.max()/classTotals[i]\n",
        "    pass\n",
        "\n",
        "# classWeight"
      ],
      "execution_count": 33,
      "outputs": []
    },
    {
      "cell_type": "code",
      "metadata": {
        "id": "K8dqvO6HBY6J",
        "outputId": "31c047db-7669-4242-e7e4-5652622a4c64",
        "colab": {
          "base_uri": "https://localhost:8080/"
        }
      },
      "source": [
        "opt = SGD(lr=1e-3, momentum=0.9, nesterov=True)\n",
        "model.compile(optimizer=opt, loss='categorical_crossentropy',metrics=['categorical_accuracy'])"
      ],
      "execution_count": 34,
      "outputs": [
        {
          "output_type": "stream",
          "name": "stderr",
          "text": [
            "WARNING:absl:`lr` is deprecated, please use `learning_rate` instead, or use the legacy optimizer, e.g.,tf.keras.optimizers.legacy.SGD.\n"
          ]
        }
      ]
    },
    {
      "cell_type": "markdown",
      "source": [
        "**Training the Model**"
      ],
      "metadata": {
        "id": "RPaQqxTvb4v1"
      }
    },
    {
      "cell_type": "code",
      "metadata": {
        "colab": {
          "base_uri": "https://localhost:8080/"
        },
        "id": "8WPSB4KqBcYx",
        "outputId": "70fe04e1-74de-4625-d424-92ed4fa0bc34"
      },
      "source": [
        "epochs = 150\n",
        "batchSize = 100\n",
        "\n",
        "history = model.fit(train_generator,\n",
        "                   steps_per_epoch = num_train_samples//batchSize,\n",
        "                   epochs = epochs,\n",
        "                   verbose = 1,\n",
        "                   validation_data = val_generator,\n",
        "                   validation_steps = num_val_samples//batchSize,\n",
        "                   callbacks = [checkpoint, logs, lrate, loss_history],\n",
        "                   class_weight = classWeight\n",
        "                   )\n"
      ],
      "execution_count": 35,
      "outputs": [
        {
          "output_type": "stream",
          "name": "stdout",
          "text": [
            "Epoch 1/150\n",
            "202/202 [==============================] - ETA: 0s - loss: 1.9220 - categorical_accuracy: 0.5342\n",
            "Epoch 1: val_categorical_accuracy improved from -inf to 0.11642, saving model to 6bands_weights_v5-5.h5\n",
            "202/202 [==============================] - 36s 103ms/step - loss: 1.9220 - categorical_accuracy: 0.5342 - val_loss: 2.5764 - val_categorical_accuracy: 0.1164 - lr: 0.0010\n",
            "Epoch 2/150\n",
            "202/202 [==============================] - ETA: 0s - loss: 1.5290 - categorical_accuracy: 0.6589\n",
            "Epoch 2: val_categorical_accuracy did not improve from 0.11642\n",
            "202/202 [==============================] - 20s 99ms/step - loss: 1.5290 - categorical_accuracy: 0.6589 - val_loss: 4.0483 - val_categorical_accuracy: 0.1060 - lr: 0.0010\n",
            "Epoch 3/150\n",
            "202/202 [==============================] - ETA: 0s - loss: 1.3643 - categorical_accuracy: 0.6881\n",
            "Epoch 3: val_categorical_accuracy improved from 0.11642 to 0.18657, saving model to 6bands_weights_v5-5.h5\n",
            "202/202 [==============================] - 21s 103ms/step - loss: 1.3643 - categorical_accuracy: 0.6881 - val_loss: 2.2162 - val_categorical_accuracy: 0.1866 - lr: 0.0010\n",
            "Epoch 4/150\n",
            "202/202 [==============================] - ETA: 0s - loss: 1.2482 - categorical_accuracy: 0.7059\n",
            "Epoch 4: val_categorical_accuracy improved from 0.18657 to 0.27313, saving model to 6bands_weights_v5-5.h5\n",
            "202/202 [==============================] - 20s 102ms/step - loss: 1.2482 - categorical_accuracy: 0.7059 - val_loss: 2.5981 - val_categorical_accuracy: 0.2731 - lr: 0.0010\n",
            "Epoch 5/150\n",
            "202/202 [==============================] - ETA: 0s - loss: 1.1356 - categorical_accuracy: 0.7312\n",
            "Epoch 5: val_categorical_accuracy did not improve from 0.27313\n",
            "202/202 [==============================] - 20s 98ms/step - loss: 1.1356 - categorical_accuracy: 0.7312 - val_loss: 5.1490 - val_categorical_accuracy: 0.1985 - lr: 0.0010\n",
            "Epoch 6/150\n",
            "202/202 [==============================] - ETA: 0s - loss: 1.1124 - categorical_accuracy: 0.7223\n",
            "Epoch 6: val_categorical_accuracy did not improve from 0.27313\n",
            "202/202 [==============================] - 20s 102ms/step - loss: 1.1124 - categorical_accuracy: 0.7223 - val_loss: 2.2148 - val_categorical_accuracy: 0.1836 - lr: 0.0010\n",
            "Epoch 7/150\n",
            "202/202 [==============================] - ETA: 0s - loss: 1.0100 - categorical_accuracy: 0.7520\n",
            "Epoch 7: val_categorical_accuracy did not improve from 0.27313\n",
            "202/202 [==============================] - 20s 100ms/step - loss: 1.0100 - categorical_accuracy: 0.7520 - val_loss: 4.3114 - val_categorical_accuracy: 0.1642 - lr: 0.0010\n",
            "Epoch 8/150\n",
            "202/202 [==============================] - ETA: 0s - loss: 0.9716 - categorical_accuracy: 0.7569\n",
            "Epoch 8: val_categorical_accuracy did not improve from 0.27313\n",
            "202/202 [==============================] - 19s 93ms/step - loss: 0.9716 - categorical_accuracy: 0.7569 - val_loss: 4.1355 - val_categorical_accuracy: 0.1000 - lr: 0.0010\n",
            "Epoch 9/150\n",
            "202/202 [==============================] - ETA: 0s - loss: 0.9535 - categorical_accuracy: 0.7485\n",
            "Epoch 9: val_categorical_accuracy did not improve from 0.27313\n",
            "202/202 [==============================] - 20s 99ms/step - loss: 0.9535 - categorical_accuracy: 0.7485 - val_loss: 3.1386 - val_categorical_accuracy: 0.2537 - lr: 0.0010\n",
            "Epoch 10/150\n",
            "202/202 [==============================] - ETA: 0s - loss: 0.9129 - categorical_accuracy: 0.7609\n",
            "Epoch 10: val_categorical_accuracy did not improve from 0.27313\n",
            "202/202 [==============================] - 19s 94ms/step - loss: 0.9129 - categorical_accuracy: 0.7609 - val_loss: 7.1073 - val_categorical_accuracy: 0.1075 - lr: 0.0010\n",
            "Epoch 11/150\n",
            "202/202 [==============================] - ETA: 0s - loss: 0.8709 - categorical_accuracy: 0.7683\n",
            "Epoch 11: val_categorical_accuracy did not improve from 0.27313\n",
            "202/202 [==============================] - 19s 96ms/step - loss: 0.8709 - categorical_accuracy: 0.7683 - val_loss: 3.3824 - val_categorical_accuracy: 0.2522 - lr: 0.0010\n",
            "Epoch 12/150\n",
            "202/202 [==============================] - ETA: 0s - loss: 0.8432 - categorical_accuracy: 0.7837\n",
            "Epoch 12: val_categorical_accuracy improved from 0.27313 to 0.30896, saving model to 6bands_weights_v5-5.h5\n",
            "202/202 [==============================] - 20s 100ms/step - loss: 0.8432 - categorical_accuracy: 0.7837 - val_loss: 2.6848 - val_categorical_accuracy: 0.3090 - lr: 0.0010\n",
            "Epoch 13/150\n",
            "202/202 [==============================] - ETA: 0s - loss: 0.8234 - categorical_accuracy: 0.7896\n",
            "Epoch 13: val_categorical_accuracy did not improve from 0.30896\n",
            "202/202 [==============================] - 21s 102ms/step - loss: 0.8234 - categorical_accuracy: 0.7896 - val_loss: 2.9459 - val_categorical_accuracy: 0.2388 - lr: 0.0010\n",
            "Epoch 14/150\n",
            "202/202 [==============================] - ETA: 0s - loss: 0.7868 - categorical_accuracy: 0.8025\n",
            "Epoch 14: val_categorical_accuracy did not improve from 0.30896\n",
            "202/202 [==============================] - 19s 93ms/step - loss: 0.7868 - categorical_accuracy: 0.8025 - val_loss: 3.2923 - val_categorical_accuracy: 0.2731 - lr: 0.0010\n",
            "Epoch 15/150\n",
            "202/202 [==============================] - ETA: 0s - loss: 0.7303 - categorical_accuracy: 0.8084\n",
            "Epoch 15: val_categorical_accuracy improved from 0.30896 to 0.36567, saving model to 6bands_weights_v5-5.h5\n",
            "202/202 [==============================] - 19s 93ms/step - loss: 0.7303 - categorical_accuracy: 0.8084 - val_loss: 2.4519 - val_categorical_accuracy: 0.3657 - lr: 0.0010\n",
            "Epoch 16/150\n",
            "202/202 [==============================] - ETA: 0s - loss: 0.7594 - categorical_accuracy: 0.8153\n",
            "Epoch 16: val_categorical_accuracy did not improve from 0.36567\n",
            "202/202 [==============================] - 20s 98ms/step - loss: 0.7594 - categorical_accuracy: 0.8153 - val_loss: 2.4931 - val_categorical_accuracy: 0.2507 - lr: 0.0010\n",
            "Epoch 17/150\n",
            "202/202 [==============================] - ETA: 0s - loss: 0.6944 - categorical_accuracy: 0.8198\n",
            "Epoch 17: val_categorical_accuracy did not improve from 0.36567\n",
            "202/202 [==============================] - 18s 91ms/step - loss: 0.6944 - categorical_accuracy: 0.8198 - val_loss: 3.3871 - val_categorical_accuracy: 0.2463 - lr: 0.0010\n",
            "Epoch 18/150\n",
            "202/202 [==============================] - ETA: 0s - loss: 0.7038 - categorical_accuracy: 0.8203\n",
            "Epoch 18: val_categorical_accuracy did not improve from 0.36567\n",
            "202/202 [==============================] - 19s 97ms/step - loss: 0.7038 - categorical_accuracy: 0.8203 - val_loss: 2.5982 - val_categorical_accuracy: 0.3045 - lr: 0.0010\n",
            "Epoch 19/150\n",
            "202/202 [==============================] - ETA: 0s - loss: 0.6979 - categorical_accuracy: 0.8213\n",
            "Epoch 19: val_categorical_accuracy did not improve from 0.36567\n",
            "202/202 [==============================] - 18s 90ms/step - loss: 0.6979 - categorical_accuracy: 0.8213 - val_loss: 4.7217 - val_categorical_accuracy: 0.2851 - lr: 0.0010\n",
            "Epoch 20/150\n",
            "202/202 [==============================] - ETA: 0s - loss: 0.6842 - categorical_accuracy: 0.8223\n",
            "Epoch 20: val_categorical_accuracy did not improve from 0.36567\n",
            "202/202 [==============================] - 20s 98ms/step - loss: 0.6842 - categorical_accuracy: 0.8223 - val_loss: 2.5373 - val_categorical_accuracy: 0.2970 - lr: 0.0010\n",
            "Epoch 21/150\n",
            "202/202 [==============================] - ETA: 0s - loss: 0.6622 - categorical_accuracy: 0.8262\n",
            "Epoch 21: val_categorical_accuracy did not improve from 0.36567\n",
            "202/202 [==============================] - 20s 97ms/step - loss: 0.6622 - categorical_accuracy: 0.8262 - val_loss: 3.9719 - val_categorical_accuracy: 0.2582 - lr: 0.0010\n",
            "Epoch 22/150\n",
            "202/202 [==============================] - ETA: 0s - loss: 0.6368 - categorical_accuracy: 0.8411\n",
            "Epoch 22: val_categorical_accuracy improved from 0.36567 to 0.55672, saving model to 6bands_weights_v5-5.h5\n",
            "202/202 [==============================] - 19s 96ms/step - loss: 0.6368 - categorical_accuracy: 0.8411 - val_loss: 1.5370 - val_categorical_accuracy: 0.5567 - lr: 0.0010\n",
            "Epoch 23/150\n",
            "202/202 [==============================] - ETA: 0s - loss: 0.6414 - categorical_accuracy: 0.8356\n",
            "Epoch 23: val_categorical_accuracy did not improve from 0.55672\n",
            "202/202 [==============================] - 20s 101ms/step - loss: 0.6414 - categorical_accuracy: 0.8356 - val_loss: 7.1878 - val_categorical_accuracy: 0.1090 - lr: 0.0010\n",
            "Epoch 24/150\n",
            "202/202 [==============================] - ETA: 0s - loss: 0.6187 - categorical_accuracy: 0.8416\n",
            "Epoch 24: val_categorical_accuracy did not improve from 0.55672\n",
            "202/202 [==============================] - 20s 101ms/step - loss: 0.6187 - categorical_accuracy: 0.8416 - val_loss: 3.3099 - val_categorical_accuracy: 0.3134 - lr: 0.0010\n",
            "Epoch 25/150\n",
            "202/202 [==============================] - ETA: 0s - loss: 0.5706 - categorical_accuracy: 0.8550\n",
            "Epoch 25: val_categorical_accuracy did not improve from 0.55672\n",
            "202/202 [==============================] - 20s 98ms/step - loss: 0.5706 - categorical_accuracy: 0.8550 - val_loss: 2.8397 - val_categorical_accuracy: 0.3522 - lr: 0.0010\n",
            "Epoch 26/150\n",
            "202/202 [==============================] - ETA: 0s - loss: 0.5974 - categorical_accuracy: 0.8550\n",
            "Epoch 26: val_categorical_accuracy improved from 0.55672 to 0.62836, saving model to 6bands_weights_v5-5.h5\n",
            "202/202 [==============================] - 20s 100ms/step - loss: 0.5974 - categorical_accuracy: 0.8550 - val_loss: 1.1176 - val_categorical_accuracy: 0.6284 - lr: 0.0010\n",
            "Epoch 27/150\n",
            "202/202 [==============================] - ETA: 0s - loss: 0.5416 - categorical_accuracy: 0.8644\n",
            "Epoch 27: val_categorical_accuracy did not improve from 0.62836\n",
            "202/202 [==============================] - 19s 94ms/step - loss: 0.5416 - categorical_accuracy: 0.8644 - val_loss: 1.6318 - val_categorical_accuracy: 0.4881 - lr: 0.0010\n",
            "Epoch 28/150\n",
            "202/202 [==============================] - ETA: 0s - loss: 0.5697 - categorical_accuracy: 0.8554\n",
            "Epoch 28: val_categorical_accuracy did not improve from 0.62836\n",
            "202/202 [==============================] - 20s 99ms/step - loss: 0.5697 - categorical_accuracy: 0.8554 - val_loss: 2.9245 - val_categorical_accuracy: 0.3537 - lr: 0.0010\n",
            "Epoch 29/150\n",
            "202/202 [==============================] - ETA: 0s - loss: 0.5558 - categorical_accuracy: 0.8579\n",
            "Epoch 29: val_categorical_accuracy did not improve from 0.62836\n",
            "202/202 [==============================] - 20s 101ms/step - loss: 0.5558 - categorical_accuracy: 0.8579 - val_loss: 2.0252 - val_categorical_accuracy: 0.5000 - lr: 0.0010\n",
            "Epoch 30/150\n",
            "202/202 [==============================] - ETA: 0s - loss: 0.5306 - categorical_accuracy: 0.8653\n",
            "Epoch 30: val_categorical_accuracy improved from 0.62836 to 0.90746, saving model to 6bands_weights_v5-5.h5\n",
            "202/202 [==============================] - 20s 98ms/step - loss: 0.5306 - categorical_accuracy: 0.8653 - val_loss: 0.3092 - val_categorical_accuracy: 0.9075 - lr: 1.0000e-04\n",
            "Epoch 31/150\n",
            "202/202 [==============================] - ETA: 0s - loss: 0.4887 - categorical_accuracy: 0.8812\n",
            "Epoch 31: val_categorical_accuracy improved from 0.90746 to 0.92687, saving model to 6bands_weights_v5-5.h5\n",
            "202/202 [==============================] - 18s 91ms/step - loss: 0.4887 - categorical_accuracy: 0.8812 - val_loss: 0.2377 - val_categorical_accuracy: 0.9269 - lr: 1.0000e-04\n",
            "Epoch 32/150\n",
            "202/202 [==============================] - ETA: 0s - loss: 0.4893 - categorical_accuracy: 0.8861\n",
            "Epoch 32: val_categorical_accuracy did not improve from 0.92687\n",
            "202/202 [==============================] - 19s 95ms/step - loss: 0.4893 - categorical_accuracy: 0.8861 - val_loss: 0.3111 - val_categorical_accuracy: 0.8985 - lr: 1.0000e-04\n",
            "Epoch 33/150\n",
            "202/202 [==============================] - ETA: 0s - loss: 0.4831 - categorical_accuracy: 0.8847\n",
            "Epoch 33: val_categorical_accuracy improved from 0.92687 to 0.93134, saving model to 6bands_weights_v5-5.h5\n",
            "202/202 [==============================] - 20s 97ms/step - loss: 0.4831 - categorical_accuracy: 0.8847 - val_loss: 0.2436 - val_categorical_accuracy: 0.9313 - lr: 1.0000e-04\n",
            "Epoch 34/150\n",
            "202/202 [==============================] - ETA: 0s - loss: 0.4675 - categorical_accuracy: 0.8896\n",
            "Epoch 34: val_categorical_accuracy did not improve from 0.93134\n",
            "202/202 [==============================] - 19s 95ms/step - loss: 0.4675 - categorical_accuracy: 0.8896 - val_loss: 0.2641 - val_categorical_accuracy: 0.9134 - lr: 1.0000e-04\n",
            "Epoch 35/150\n",
            "202/202 [==============================] - ETA: 0s - loss: 0.4346 - categorical_accuracy: 0.9015\n",
            "Epoch 35: val_categorical_accuracy improved from 0.93134 to 0.93433, saving model to 6bands_weights_v5-5.h5\n",
            "202/202 [==============================] - 20s 98ms/step - loss: 0.4346 - categorical_accuracy: 0.9015 - val_loss: 0.2270 - val_categorical_accuracy: 0.9343 - lr: 1.0000e-04\n",
            "Epoch 36/150\n",
            "202/202 [==============================] - ETA: 0s - loss: 0.4586 - categorical_accuracy: 0.8965\n",
            "Epoch 36: val_categorical_accuracy improved from 0.93433 to 0.94776, saving model to 6bands_weights_v5-5.h5\n",
            "202/202 [==============================] - 21s 102ms/step - loss: 0.4586 - categorical_accuracy: 0.8965 - val_loss: 0.2063 - val_categorical_accuracy: 0.9478 - lr: 1.0000e-04\n",
            "Epoch 37/150\n",
            "202/202 [==============================] - ETA: 0s - loss: 0.4183 - categorical_accuracy: 0.9119\n",
            "Epoch 37: val_categorical_accuracy did not improve from 0.94776\n",
            "202/202 [==============================] - 18s 92ms/step - loss: 0.4183 - categorical_accuracy: 0.9119 - val_loss: 0.1872 - val_categorical_accuracy: 0.9448 - lr: 1.0000e-04\n",
            "Epoch 38/150\n",
            "202/202 [==============================] - ETA: 0s - loss: 0.4393 - categorical_accuracy: 0.9020\n",
            "Epoch 38: val_categorical_accuracy did not improve from 0.94776\n",
            "202/202 [==============================] - 20s 99ms/step - loss: 0.4393 - categorical_accuracy: 0.9020 - val_loss: 0.3188 - val_categorical_accuracy: 0.8970 - lr: 1.0000e-04\n",
            "Epoch 39/150\n",
            "202/202 [==============================] - ETA: 0s - loss: 0.4139 - categorical_accuracy: 0.9134\n",
            "Epoch 39: val_categorical_accuracy improved from 0.94776 to 0.95672, saving model to 6bands_weights_v5-5.h5\n",
            "202/202 [==============================] - 19s 97ms/step - loss: 0.4139 - categorical_accuracy: 0.9134 - val_loss: 0.1877 - val_categorical_accuracy: 0.9567 - lr: 1.0000e-04\n",
            "Epoch 40/150\n",
            "202/202 [==============================] - ETA: 0s - loss: 0.4681 - categorical_accuracy: 0.8832\n",
            "Epoch 40: val_categorical_accuracy did not improve from 0.95672\n",
            "202/202 [==============================] - 18s 89ms/step - loss: 0.4681 - categorical_accuracy: 0.8832 - val_loss: 0.2077 - val_categorical_accuracy: 0.9433 - lr: 1.0000e-04\n",
            "Epoch 41/150\n",
            "202/202 [==============================] - ETA: 0s - loss: 0.4530 - categorical_accuracy: 0.9030\n",
            "Epoch 41: val_categorical_accuracy did not improve from 0.95672\n",
            "202/202 [==============================] - 19s 93ms/step - loss: 0.4530 - categorical_accuracy: 0.9030 - val_loss: 0.2131 - val_categorical_accuracy: 0.9418 - lr: 1.0000e-04\n",
            "Epoch 42/150\n",
            "202/202 [==============================] - ETA: 0s - loss: 0.4548 - categorical_accuracy: 0.9020\n",
            "Epoch 42: val_categorical_accuracy did not improve from 0.95672\n",
            "202/202 [==============================] - 18s 90ms/step - loss: 0.4548 - categorical_accuracy: 0.9020 - val_loss: 0.2651 - val_categorical_accuracy: 0.9254 - lr: 1.0000e-04\n",
            "Epoch 43/150\n",
            "202/202 [==============================] - ETA: 0s - loss: 0.4568 - categorical_accuracy: 0.8965\n",
            "Epoch 43: val_categorical_accuracy did not improve from 0.95672\n",
            "202/202 [==============================] - 20s 97ms/step - loss: 0.4568 - categorical_accuracy: 0.8965 - val_loss: 0.2199 - val_categorical_accuracy: 0.9328 - lr: 1.0000e-04\n",
            "Epoch 44/150\n",
            "202/202 [==============================] - ETA: 0s - loss: 0.4447 - categorical_accuracy: 0.8965\n",
            "Epoch 44: val_categorical_accuracy did not improve from 0.95672\n",
            "202/202 [==============================] - 20s 97ms/step - loss: 0.4447 - categorical_accuracy: 0.8965 - val_loss: 0.3080 - val_categorical_accuracy: 0.8970 - lr: 1.0000e-04\n",
            "Epoch 45/150\n",
            "202/202 [==============================] - ETA: 0s - loss: 0.4108 - categorical_accuracy: 0.9094\n",
            "Epoch 45: val_categorical_accuracy did not improve from 0.95672\n",
            "202/202 [==============================] - 19s 95ms/step - loss: 0.4108 - categorical_accuracy: 0.9094 - val_loss: 0.2248 - val_categorical_accuracy: 0.9373 - lr: 1.0000e-04\n",
            "Epoch 46/150\n",
            "202/202 [==============================] - ETA: 0s - loss: 0.4348 - categorical_accuracy: 0.9050\n",
            "Epoch 46: val_categorical_accuracy improved from 0.95672 to 0.95970, saving model to 6bands_weights_v5-5.h5\n",
            "202/202 [==============================] - 18s 91ms/step - loss: 0.4348 - categorical_accuracy: 0.9050 - val_loss: 0.1749 - val_categorical_accuracy: 0.9597 - lr: 1.0000e-04\n",
            "Epoch 47/150\n",
            "202/202 [==============================] - ETA: 0s - loss: 0.3995 - categorical_accuracy: 0.9173\n",
            "Epoch 47: val_categorical_accuracy did not improve from 0.95970\n",
            "202/202 [==============================] - 19s 95ms/step - loss: 0.3995 - categorical_accuracy: 0.9173 - val_loss: 0.1855 - val_categorical_accuracy: 0.9463 - lr: 1.0000e-04\n",
            "Epoch 48/150\n",
            "202/202 [==============================] - ETA: 0s - loss: 0.4185 - categorical_accuracy: 0.9139\n",
            "Epoch 48: val_categorical_accuracy did not improve from 0.95970\n",
            "202/202 [==============================] - 18s 90ms/step - loss: 0.4185 - categorical_accuracy: 0.9139 - val_loss: 0.2864 - val_categorical_accuracy: 0.9119 - lr: 1.0000e-04\n",
            "Epoch 49/150\n",
            "202/202 [==============================] - ETA: 0s - loss: 0.3985 - categorical_accuracy: 0.9173\n",
            "Epoch 49: val_categorical_accuracy did not improve from 0.95970\n",
            "202/202 [==============================] - 19s 95ms/step - loss: 0.3985 - categorical_accuracy: 0.9173 - val_loss: 0.1908 - val_categorical_accuracy: 0.9552 - lr: 1.0000e-04\n",
            "Epoch 50/150\n",
            "202/202 [==============================] - ETA: 0s - loss: 0.4432 - categorical_accuracy: 0.8896\n",
            "Epoch 50: val_categorical_accuracy did not improve from 0.95970\n",
            "202/202 [==============================] - 20s 97ms/step - loss: 0.4432 - categorical_accuracy: 0.8896 - val_loss: 0.1843 - val_categorical_accuracy: 0.9522 - lr: 1.0000e-04\n",
            "Epoch 51/150\n",
            "202/202 [==============================] - ETA: 0s - loss: 0.4373 - categorical_accuracy: 0.9074\n",
            "Epoch 51: val_categorical_accuracy did not improve from 0.95970\n",
            "202/202 [==============================] - 25s 122ms/step - loss: 0.4373 - categorical_accuracy: 0.9074 - val_loss: 0.2223 - val_categorical_accuracy: 0.9388 - lr: 1.0000e-04\n",
            "Epoch 52/150\n",
            "202/202 [==============================] - ETA: 0s - loss: 0.4369 - categorical_accuracy: 0.9079\n",
            "Epoch 52: val_categorical_accuracy did not improve from 0.95970\n",
            "202/202 [==============================] - 23s 114ms/step - loss: 0.4369 - categorical_accuracy: 0.9079 - val_loss: 0.2276 - val_categorical_accuracy: 0.9373 - lr: 1.0000e-04\n",
            "Epoch 53/150\n",
            "202/202 [==============================] - ETA: 0s - loss: 0.4367 - categorical_accuracy: 0.9040\n",
            "Epoch 53: val_categorical_accuracy did not improve from 0.95970\n",
            "202/202 [==============================] - 22s 108ms/step - loss: 0.4367 - categorical_accuracy: 0.9040 - val_loss: 0.2065 - val_categorical_accuracy: 0.9403 - lr: 1.0000e-04\n",
            "Epoch 54/150\n",
            "202/202 [==============================] - ETA: 0s - loss: 0.4257 - categorical_accuracy: 0.9050\n",
            "Epoch 54: val_categorical_accuracy did not improve from 0.95970\n",
            "202/202 [==============================] - 18s 91ms/step - loss: 0.4257 - categorical_accuracy: 0.9050 - val_loss: 0.2927 - val_categorical_accuracy: 0.9060 - lr: 1.0000e-04\n",
            "Epoch 55/150\n",
            "202/202 [==============================] - ETA: 0s - loss: 0.3941 - categorical_accuracy: 0.9144\n",
            "Epoch 55: val_categorical_accuracy did not improve from 0.95970\n",
            "202/202 [==============================] - 20s 97ms/step - loss: 0.3941 - categorical_accuracy: 0.9144 - val_loss: 0.2186 - val_categorical_accuracy: 0.9403 - lr: 1.0000e-04\n",
            "Epoch 56/150\n",
            "202/202 [==============================] - ETA: 0s - loss: 0.4182 - categorical_accuracy: 0.9129\n",
            "Epoch 56: val_categorical_accuracy did not improve from 0.95970\n",
            "202/202 [==============================] - 20s 100ms/step - loss: 0.4182 - categorical_accuracy: 0.9129 - val_loss: 0.1706 - val_categorical_accuracy: 0.9552 - lr: 1.0000e-04\n",
            "Epoch 57/150\n",
            "202/202 [==============================] - ETA: 0s - loss: 0.3833 - categorical_accuracy: 0.9218\n",
            "Epoch 57: val_categorical_accuracy did not improve from 0.95970\n",
            "202/202 [==============================] - 20s 99ms/step - loss: 0.3833 - categorical_accuracy: 0.9218 - val_loss: 0.1797 - val_categorical_accuracy: 0.9493 - lr: 1.0000e-04\n",
            "Epoch 58/150\n",
            "202/202 [==============================] - ETA: 0s - loss: 0.4065 - categorical_accuracy: 0.9183\n",
            "Epoch 58: val_categorical_accuracy did not improve from 0.95970\n",
            "202/202 [==============================] - 22s 110ms/step - loss: 0.4065 - categorical_accuracy: 0.9183 - val_loss: 0.2730 - val_categorical_accuracy: 0.9209 - lr: 1.0000e-04\n",
            "Epoch 59/150\n",
            "202/202 [==============================] - ETA: 0s - loss: 0.3794 - categorical_accuracy: 0.9287\n",
            "Epoch 59: val_categorical_accuracy did not improve from 0.95970\n",
            "202/202 [==============================] - 28s 137ms/step - loss: 0.3794 - categorical_accuracy: 0.9287 - val_loss: 0.2004 - val_categorical_accuracy: 0.9537 - lr: 1.0000e-04\n",
            "Epoch 60/150\n",
            "202/202 [==============================] - ETA: 0s - loss: 0.4273 - categorical_accuracy: 0.9005\n",
            "Epoch 60: val_categorical_accuracy did not improve from 0.95970\n",
            "202/202 [==============================] - 22s 112ms/step - loss: 0.4273 - categorical_accuracy: 0.9005 - val_loss: 0.1544 - val_categorical_accuracy: 0.9582 - lr: 1.0000e-05\n",
            "Epoch 61/150\n",
            "202/202 [==============================] - ETA: 0s - loss: 0.4225 - categorical_accuracy: 0.9109\n",
            "Epoch 61: val_categorical_accuracy did not improve from 0.95970\n",
            "202/202 [==============================] - 20s 98ms/step - loss: 0.4225 - categorical_accuracy: 0.9109 - val_loss: 0.1556 - val_categorical_accuracy: 0.9582 - lr: 1.0000e-05\n",
            "Epoch 62/150\n",
            "202/202 [==============================] - ETA: 0s - loss: 0.4077 - categorical_accuracy: 0.9144\n",
            "Epoch 62: val_categorical_accuracy did not improve from 0.95970\n",
            "202/202 [==============================] - 20s 100ms/step - loss: 0.4077 - categorical_accuracy: 0.9144 - val_loss: 0.1853 - val_categorical_accuracy: 0.9478 - lr: 1.0000e-05\n",
            "Epoch 63/150\n",
            "202/202 [==============================] - ETA: 0s - loss: 0.4297 - categorical_accuracy: 0.9084\n",
            "Epoch 63: val_categorical_accuracy did not improve from 0.95970\n",
            "202/202 [==============================] - 19s 94ms/step - loss: 0.4297 - categorical_accuracy: 0.9084 - val_loss: 0.1606 - val_categorical_accuracy: 0.9567 - lr: 1.0000e-05\n",
            "Epoch 64/150\n",
            "202/202 [==============================] - ETA: 0s - loss: 0.4045 - categorical_accuracy: 0.9114\n",
            "Epoch 64: val_categorical_accuracy did not improve from 0.95970\n",
            "202/202 [==============================] - 21s 102ms/step - loss: 0.4045 - categorical_accuracy: 0.9114 - val_loss: 0.1635 - val_categorical_accuracy: 0.9567 - lr: 1.0000e-05\n",
            "Epoch 65/150\n",
            "202/202 [==============================] - ETA: 0s - loss: 0.3797 - categorical_accuracy: 0.9188\n",
            "Epoch 65: val_categorical_accuracy did not improve from 0.95970\n",
            "202/202 [==============================] - 20s 98ms/step - loss: 0.3797 - categorical_accuracy: 0.9188 - val_loss: 0.1660 - val_categorical_accuracy: 0.9567 - lr: 1.0000e-05\n",
            "Epoch 66/150\n",
            "202/202 [==============================] - ETA: 0s - loss: 0.3990 - categorical_accuracy: 0.9149\n",
            "Epoch 66: val_categorical_accuracy improved from 0.95970 to 0.96119, saving model to 6bands_weights_v5-5.h5\n",
            "202/202 [==============================] - 19s 95ms/step - loss: 0.3990 - categorical_accuracy: 0.9149 - val_loss: 0.1392 - val_categorical_accuracy: 0.9612 - lr: 1.0000e-05\n",
            "Epoch 67/150\n",
            "202/202 [==============================] - ETA: 0s - loss: 0.3659 - categorical_accuracy: 0.9287\n",
            "Epoch 67: val_categorical_accuracy did not improve from 0.96119\n",
            "202/202 [==============================] - 20s 98ms/step - loss: 0.3659 - categorical_accuracy: 0.9287 - val_loss: 0.1629 - val_categorical_accuracy: 0.9507 - lr: 1.0000e-05\n",
            "Epoch 68/150\n",
            "202/202 [==============================] - ETA: 0s - loss: 0.3883 - categorical_accuracy: 0.9282\n",
            "Epoch 68: val_categorical_accuracy did not improve from 0.96119\n",
            "202/202 [==============================] - 20s 99ms/step - loss: 0.3883 - categorical_accuracy: 0.9282 - val_loss: 0.1603 - val_categorical_accuracy: 0.9567 - lr: 1.0000e-05\n",
            "Epoch 69/150\n",
            "202/202 [==============================] - ETA: 0s - loss: 0.3605 - categorical_accuracy: 0.9337\n",
            "Epoch 69: val_categorical_accuracy improved from 0.96119 to 0.96567, saving model to 6bands_weights_v5-5.h5\n",
            "202/202 [==============================] - 20s 102ms/step - loss: 0.3605 - categorical_accuracy: 0.9337 - val_loss: 0.1577 - val_categorical_accuracy: 0.9657 - lr: 1.0000e-05\n",
            "Epoch 70/150\n",
            "202/202 [==============================] - ETA: 0s - loss: 0.4173 - categorical_accuracy: 0.9020\n",
            "Epoch 70: val_categorical_accuracy did not improve from 0.96567\n",
            "202/202 [==============================] - 20s 97ms/step - loss: 0.4173 - categorical_accuracy: 0.9020 - val_loss: 0.1582 - val_categorical_accuracy: 0.9597 - lr: 1.0000e-05\n",
            "Epoch 71/150\n",
            "202/202 [==============================] - ETA: 0s - loss: 0.4121 - categorical_accuracy: 0.9134\n",
            "Epoch 71: val_categorical_accuracy did not improve from 0.96567\n",
            "202/202 [==============================] - 18s 89ms/step - loss: 0.4121 - categorical_accuracy: 0.9134 - val_loss: 0.1583 - val_categorical_accuracy: 0.9612 - lr: 1.0000e-05\n",
            "Epoch 72/150\n",
            "202/202 [==============================] - ETA: 0s - loss: 0.4105 - categorical_accuracy: 0.9149\n",
            "Epoch 72: val_categorical_accuracy did not improve from 0.96567\n",
            "202/202 [==============================] - 19s 97ms/step - loss: 0.4105 - categorical_accuracy: 0.9149 - val_loss: 0.1767 - val_categorical_accuracy: 0.9522 - lr: 1.0000e-05\n",
            "Epoch 73/150\n",
            "202/202 [==============================] - ETA: 0s - loss: 0.4269 - categorical_accuracy: 0.9074\n",
            "Epoch 73: val_categorical_accuracy did not improve from 0.96567\n",
            "202/202 [==============================] - 20s 97ms/step - loss: 0.4269 - categorical_accuracy: 0.9074 - val_loss: 0.1691 - val_categorical_accuracy: 0.9567 - lr: 1.0000e-05\n",
            "Epoch 74/150\n",
            "202/202 [==============================] - ETA: 0s - loss: 0.3960 - categorical_accuracy: 0.9158\n",
            "Epoch 74: val_categorical_accuracy did not improve from 0.96567\n",
            "202/202 [==============================] - 20s 98ms/step - loss: 0.3960 - categorical_accuracy: 0.9158 - val_loss: 0.1561 - val_categorical_accuracy: 0.9597 - lr: 1.0000e-05\n",
            "Epoch 75/150\n",
            "202/202 [==============================] - ETA: 0s - loss: 0.3769 - categorical_accuracy: 0.9198\n",
            "Epoch 75: val_categorical_accuracy did not improve from 0.96567\n",
            "202/202 [==============================] - 20s 99ms/step - loss: 0.3769 - categorical_accuracy: 0.9198 - val_loss: 0.1721 - val_categorical_accuracy: 0.9537 - lr: 1.0000e-05\n",
            "Epoch 76/150\n",
            "202/202 [==============================] - ETA: 0s - loss: 0.3979 - categorical_accuracy: 0.9188\n",
            "Epoch 76: val_categorical_accuracy did not improve from 0.96567\n",
            "202/202 [==============================] - 19s 93ms/step - loss: 0.3979 - categorical_accuracy: 0.9188 - val_loss: 0.1406 - val_categorical_accuracy: 0.9612 - lr: 1.0000e-05\n",
            "Epoch 77/150\n",
            "202/202 [==============================] - ETA: 0s - loss: 0.3620 - categorical_accuracy: 0.9317\n",
            "Epoch 77: val_categorical_accuracy did not improve from 0.96567\n",
            "202/202 [==============================] - 20s 99ms/step - loss: 0.3620 - categorical_accuracy: 0.9317 - val_loss: 0.1597 - val_categorical_accuracy: 0.9493 - lr: 1.0000e-05\n",
            "Epoch 78/150\n",
            "202/202 [==============================] - ETA: 0s - loss: 0.3845 - categorical_accuracy: 0.9262\n",
            "Epoch 78: val_categorical_accuracy did not improve from 0.96567\n",
            "202/202 [==============================] - 19s 96ms/step - loss: 0.3845 - categorical_accuracy: 0.9262 - val_loss: 0.1588 - val_categorical_accuracy: 0.9612 - lr: 1.0000e-05\n",
            "Epoch 79/150\n",
            "202/202 [==============================] - ETA: 0s - loss: 0.3630 - categorical_accuracy: 0.9337\n",
            "Epoch 79: val_categorical_accuracy did not improve from 0.96567\n",
            "202/202 [==============================] - 19s 94ms/step - loss: 0.3630 - categorical_accuracy: 0.9337 - val_loss: 0.1731 - val_categorical_accuracy: 0.9612 - lr: 1.0000e-05\n",
            "Epoch 80/150\n",
            "202/202 [==============================] - ETA: 0s - loss: 0.4157 - categorical_accuracy: 0.9035\n",
            "Epoch 80: val_categorical_accuracy did not improve from 0.96567\n",
            "202/202 [==============================] - 20s 97ms/step - loss: 0.4157 - categorical_accuracy: 0.9035 - val_loss: 0.1510 - val_categorical_accuracy: 0.9627 - lr: 1.0000e-05\n",
            "Epoch 81/150\n",
            "202/202 [==============================] - ETA: 0s - loss: 0.4080 - categorical_accuracy: 0.9124\n",
            "Epoch 81: val_categorical_accuracy did not improve from 0.96567\n",
            "202/202 [==============================] - 19s 94ms/step - loss: 0.4080 - categorical_accuracy: 0.9124 - val_loss: 0.1508 - val_categorical_accuracy: 0.9627 - lr: 1.0000e-05\n",
            "Epoch 82/150\n",
            "202/202 [==============================] - ETA: 0s - loss: 0.4057 - categorical_accuracy: 0.9173\n",
            "Epoch 82: val_categorical_accuracy did not improve from 0.96567\n",
            "202/202 [==============================] - 19s 97ms/step - loss: 0.4057 - categorical_accuracy: 0.9173 - val_loss: 0.1748 - val_categorical_accuracy: 0.9567 - lr: 1.0000e-05\n",
            "Epoch 83/150\n",
            "202/202 [==============================] - ETA: 0s - loss: 0.4252 - categorical_accuracy: 0.9079\n",
            "Epoch 83: val_categorical_accuracy did not improve from 0.96567\n",
            "202/202 [==============================] - 19s 94ms/step - loss: 0.4252 - categorical_accuracy: 0.9079 - val_loss: 0.1684 - val_categorical_accuracy: 0.9537 - lr: 1.0000e-05\n",
            "Epoch 84/150\n",
            "202/202 [==============================] - ETA: 0s - loss: 0.3977 - categorical_accuracy: 0.9158\n",
            "Epoch 84: val_categorical_accuracy did not improve from 0.96567\n",
            "202/202 [==============================] - 20s 99ms/step - loss: 0.3977 - categorical_accuracy: 0.9158 - val_loss: 0.1636 - val_categorical_accuracy: 0.9567 - lr: 1.0000e-05\n",
            "Epoch 85/150\n",
            "202/202 [==============================] - ETA: 0s - loss: 0.3728 - categorical_accuracy: 0.9218\n",
            "Epoch 85: val_categorical_accuracy did not improve from 0.96567\n",
            "202/202 [==============================] - 21s 102ms/step - loss: 0.3728 - categorical_accuracy: 0.9218 - val_loss: 0.1682 - val_categorical_accuracy: 0.9537 - lr: 1.0000e-05\n",
            "Epoch 86/150\n",
            "202/202 [==============================] - ETA: 0s - loss: 0.3906 - categorical_accuracy: 0.9233\n",
            "Epoch 86: val_categorical_accuracy did not improve from 0.96567\n",
            "202/202 [==============================] - 20s 97ms/step - loss: 0.3906 - categorical_accuracy: 0.9233 - val_loss: 0.1551 - val_categorical_accuracy: 0.9612 - lr: 1.0000e-05\n",
            "Epoch 87/150\n",
            "202/202 [==============================] - ETA: 0s - loss: 0.3651 - categorical_accuracy: 0.9287\n",
            "Epoch 87: val_categorical_accuracy did not improve from 0.96567\n",
            "202/202 [==============================] - 19s 97ms/step - loss: 0.3651 - categorical_accuracy: 0.9287 - val_loss: 0.1462 - val_categorical_accuracy: 0.9537 - lr: 1.0000e-05\n",
            "Epoch 88/150\n",
            "202/202 [==============================] - ETA: 0s - loss: 0.3830 - categorical_accuracy: 0.9257\n",
            "Epoch 88: val_categorical_accuracy did not improve from 0.96567\n",
            "202/202 [==============================] - 19s 94ms/step - loss: 0.3830 - categorical_accuracy: 0.9257 - val_loss: 0.1574 - val_categorical_accuracy: 0.9627 - lr: 1.0000e-05\n",
            "Epoch 89/150\n",
            "202/202 [==============================] - ETA: 0s - loss: 0.3655 - categorical_accuracy: 0.9337\n",
            "Epoch 89: val_categorical_accuracy did not improve from 0.96567\n",
            "202/202 [==============================] - 18s 90ms/step - loss: 0.3655 - categorical_accuracy: 0.9337 - val_loss: 0.1712 - val_categorical_accuracy: 0.9612 - lr: 1.0000e-05\n",
            "Epoch 90/150\n",
            "202/202 [==============================] - ETA: 0s - loss: 0.4065 - categorical_accuracy: 0.9079\n",
            "Epoch 90: val_categorical_accuracy did not improve from 0.96567\n",
            "202/202 [==============================] - 19s 94ms/step - loss: 0.4065 - categorical_accuracy: 0.9079 - val_loss: 0.1511 - val_categorical_accuracy: 0.9612 - lr: 1.0000e-06\n",
            "Epoch 91/150\n",
            "202/202 [==============================] - ETA: 0s - loss: 0.4094 - categorical_accuracy: 0.9129\n",
            "Epoch 91: val_categorical_accuracy did not improve from 0.96567\n",
            "202/202 [==============================] - 18s 89ms/step - loss: 0.4094 - categorical_accuracy: 0.9129 - val_loss: 0.1524 - val_categorical_accuracy: 0.9627 - lr: 1.0000e-06\n",
            "Epoch 92/150\n",
            "202/202 [==============================] - ETA: 0s - loss: 0.4057 - categorical_accuracy: 0.9149\n",
            "Epoch 92: val_categorical_accuracy did not improve from 0.96567\n",
            "202/202 [==============================] - 20s 97ms/step - loss: 0.4057 - categorical_accuracy: 0.9149 - val_loss: 0.1654 - val_categorical_accuracy: 0.9567 - lr: 1.0000e-06\n",
            "Epoch 93/150\n",
            "202/202 [==============================] - ETA: 0s - loss: 0.4255 - categorical_accuracy: 0.9050\n",
            "Epoch 93: val_categorical_accuracy did not improve from 0.96567\n",
            "202/202 [==============================] - 20s 99ms/step - loss: 0.4255 - categorical_accuracy: 0.9050 - val_loss: 0.1722 - val_categorical_accuracy: 0.9507 - lr: 1.0000e-06\n",
            "Epoch 94/150\n",
            "202/202 [==============================] - ETA: 0s - loss: 0.3897 - categorical_accuracy: 0.9163\n",
            "Epoch 94: val_categorical_accuracy did not improve from 0.96567\n",
            "202/202 [==============================] - 20s 98ms/step - loss: 0.3897 - categorical_accuracy: 0.9163 - val_loss: 0.1568 - val_categorical_accuracy: 0.9612 - lr: 1.0000e-06\n",
            "Epoch 95/150\n",
            "202/202 [==============================] - ETA: 0s - loss: 0.3717 - categorical_accuracy: 0.9218\n",
            "Epoch 95: val_categorical_accuracy did not improve from 0.96567\n",
            "202/202 [==============================] - 18s 90ms/step - loss: 0.3717 - categorical_accuracy: 0.9218 - val_loss: 0.1758 - val_categorical_accuracy: 0.9537 - lr: 1.0000e-06\n",
            "Epoch 96/150\n",
            "202/202 [==============================] - ETA: 0s - loss: 0.3838 - categorical_accuracy: 0.9248\n",
            "Epoch 96: val_categorical_accuracy did not improve from 0.96567\n",
            "202/202 [==============================] - 20s 100ms/step - loss: 0.3838 - categorical_accuracy: 0.9248 - val_loss: 0.1487 - val_categorical_accuracy: 0.9627 - lr: 1.0000e-06\n",
            "Epoch 97/150\n",
            "202/202 [==============================] - ETA: 0s - loss: 0.3691 - categorical_accuracy: 0.9282\n",
            "Epoch 97: val_categorical_accuracy did not improve from 0.96567\n",
            "202/202 [==============================] - 19s 93ms/step - loss: 0.3691 - categorical_accuracy: 0.9282 - val_loss: 0.1499 - val_categorical_accuracy: 0.9522 - lr: 1.0000e-06\n",
            "Epoch 98/150\n",
            "202/202 [==============================] - ETA: 0s - loss: 0.3792 - categorical_accuracy: 0.9282\n",
            "Epoch 98: val_categorical_accuracy did not improve from 0.96567\n",
            "202/202 [==============================] - 20s 100ms/step - loss: 0.3792 - categorical_accuracy: 0.9282 - val_loss: 0.1626 - val_categorical_accuracy: 0.9567 - lr: 1.0000e-06\n",
            "Epoch 99/150\n",
            "202/202 [==============================] - ETA: 0s - loss: 0.3610 - categorical_accuracy: 0.9376\n",
            "Epoch 99: val_categorical_accuracy did not improve from 0.96567\n",
            "202/202 [==============================] - 19s 95ms/step - loss: 0.3610 - categorical_accuracy: 0.9376 - val_loss: 0.1641 - val_categorical_accuracy: 0.9627 - lr: 1.0000e-06\n",
            "Epoch 100/150\n",
            "202/202 [==============================] - ETA: 0s - loss: 0.4008 - categorical_accuracy: 0.9099\n",
            "Epoch 100: val_categorical_accuracy did not improve from 0.96567\n",
            "202/202 [==============================] - 20s 98ms/step - loss: 0.4008 - categorical_accuracy: 0.9099 - val_loss: 0.1518 - val_categorical_accuracy: 0.9612 - lr: 1.0000e-06\n",
            "Epoch 101/150\n",
            "202/202 [==============================] - ETA: 0s - loss: 0.4162 - categorical_accuracy: 0.9099\n",
            "Epoch 101: val_categorical_accuracy did not improve from 0.96567\n",
            "202/202 [==============================] - 19s 95ms/step - loss: 0.4162 - categorical_accuracy: 0.9099 - val_loss: 0.1621 - val_categorical_accuracy: 0.9567 - lr: 1.0000e-06\n",
            "Epoch 102/150\n",
            "202/202 [==============================] - ETA: 0s - loss: 0.3996 - categorical_accuracy: 0.9149\n",
            "Epoch 102: val_categorical_accuracy did not improve from 0.96567\n",
            "202/202 [==============================] - 18s 91ms/step - loss: 0.3996 - categorical_accuracy: 0.9149 - val_loss: 0.1638 - val_categorical_accuracy: 0.9567 - lr: 1.0000e-06\n",
            "Epoch 103/150\n",
            "202/202 [==============================] - ETA: 0s - loss: 0.4286 - categorical_accuracy: 0.9079\n",
            "Epoch 103: val_categorical_accuracy did not improve from 0.96567\n",
            "202/202 [==============================] - 19s 96ms/step - loss: 0.4286 - categorical_accuracy: 0.9079 - val_loss: 0.1694 - val_categorical_accuracy: 0.9552 - lr: 1.0000e-06\n",
            "Epoch 104/150\n",
            "202/202 [==============================] - ETA: 0s - loss: 0.3909 - categorical_accuracy: 0.9144\n",
            "Epoch 104: val_categorical_accuracy did not improve from 0.96567\n",
            "202/202 [==============================] - 20s 97ms/step - loss: 0.3909 - categorical_accuracy: 0.9144 - val_loss: 0.1710 - val_categorical_accuracy: 0.9537 - lr: 1.0000e-06\n",
            "Epoch 105/150\n",
            "202/202 [==============================] - ETA: 0s - loss: 0.3732 - categorical_accuracy: 0.9218\n",
            "Epoch 105: val_categorical_accuracy did not improve from 0.96567\n",
            "202/202 [==============================] - 20s 99ms/step - loss: 0.3732 - categorical_accuracy: 0.9218 - val_loss: 0.1585 - val_categorical_accuracy: 0.9597 - lr: 1.0000e-06\n",
            "Epoch 106/150\n",
            "202/202 [==============================] - ETA: 0s - loss: 0.3811 - categorical_accuracy: 0.9252\n",
            "Epoch 106: val_categorical_accuracy did not improve from 0.96567\n",
            "202/202 [==============================] - 18s 90ms/step - loss: 0.3811 - categorical_accuracy: 0.9252 - val_loss: 0.1459 - val_categorical_accuracy: 0.9597 - lr: 1.0000e-06\n",
            "Epoch 107/150\n",
            "202/202 [==============================] - ETA: 0s - loss: 0.3692 - categorical_accuracy: 0.9282\n",
            "Epoch 107: val_categorical_accuracy did not improve from 0.96567\n",
            "202/202 [==============================] - 19s 95ms/step - loss: 0.3692 - categorical_accuracy: 0.9282 - val_loss: 0.1482 - val_categorical_accuracy: 0.9522 - lr: 1.0000e-06\n",
            "Epoch 108/150\n",
            "202/202 [==============================] - ETA: 0s - loss: 0.3787 - categorical_accuracy: 0.9277\n",
            "Epoch 108: val_categorical_accuracy did not improve from 0.96567\n",
            "202/202 [==============================] - 18s 90ms/step - loss: 0.3787 - categorical_accuracy: 0.9277 - val_loss: 0.1533 - val_categorical_accuracy: 0.9612 - lr: 1.0000e-06\n",
            "Epoch 109/150\n",
            "202/202 [==============================] - ETA: 0s - loss: 0.3640 - categorical_accuracy: 0.9371\n",
            "Epoch 109: val_categorical_accuracy did not improve from 0.96567\n",
            "202/202 [==============================] - 19s 94ms/step - loss: 0.3640 - categorical_accuracy: 0.9371 - val_loss: 0.1653 - val_categorical_accuracy: 0.9612 - lr: 1.0000e-06\n",
            "Epoch 110/150\n",
            "202/202 [==============================] - ETA: 0s - loss: 0.3982 - categorical_accuracy: 0.9094\n",
            "Epoch 110: val_categorical_accuracy did not improve from 0.96567\n",
            "202/202 [==============================] - 20s 99ms/step - loss: 0.3982 - categorical_accuracy: 0.9094 - val_loss: 0.1548 - val_categorical_accuracy: 0.9612 - lr: 1.0000e-06\n",
            "Epoch 111/150\n",
            "202/202 [==============================] - ETA: 0s - loss: 0.4180 - categorical_accuracy: 0.9099\n",
            "Epoch 111: val_categorical_accuracy did not improve from 0.96567\n",
            "202/202 [==============================] - 19s 94ms/step - loss: 0.4180 - categorical_accuracy: 0.9099 - val_loss: 0.1610 - val_categorical_accuracy: 0.9537 - lr: 1.0000e-06\n",
            "Epoch 112/150\n",
            "202/202 [==============================] - ETA: 0s - loss: 0.3964 - categorical_accuracy: 0.9158\n",
            "Epoch 112: val_categorical_accuracy did not improve from 0.96567\n",
            "202/202 [==============================] - 18s 90ms/step - loss: 0.3964 - categorical_accuracy: 0.9158 - val_loss: 0.1669 - val_categorical_accuracy: 0.9552 - lr: 1.0000e-06\n",
            "Epoch 113/150\n",
            "202/202 [==============================] - ETA: 0s - loss: 0.4295 - categorical_accuracy: 0.9074\n",
            "Epoch 113: val_categorical_accuracy did not improve from 0.96567\n",
            "202/202 [==============================] - 20s 101ms/step - loss: 0.4295 - categorical_accuracy: 0.9074 - val_loss: 0.1810 - val_categorical_accuracy: 0.9522 - lr: 1.0000e-06\n",
            "Epoch 114/150\n",
            "202/202 [==============================] - ETA: 0s - loss: 0.3880 - categorical_accuracy: 0.9158\n",
            "Epoch 114: val_categorical_accuracy did not improve from 0.96567\n",
            "202/202 [==============================] - 20s 98ms/step - loss: 0.3880 - categorical_accuracy: 0.9158 - val_loss: 0.1600 - val_categorical_accuracy: 0.9552 - lr: 1.0000e-06\n",
            "Epoch 115/150\n",
            "202/202 [==============================] - ETA: 0s - loss: 0.3736 - categorical_accuracy: 0.9198\n",
            "Epoch 115: val_categorical_accuracy did not improve from 0.96567\n",
            "202/202 [==============================] - 18s 91ms/step - loss: 0.3736 - categorical_accuracy: 0.9198 - val_loss: 0.1525 - val_categorical_accuracy: 0.9612 - lr: 1.0000e-06\n",
            "Epoch 116/150\n",
            "202/202 [==============================] - ETA: 0s - loss: 0.3860 - categorical_accuracy: 0.9248\n",
            "Epoch 116: val_categorical_accuracy did not improve from 0.96567\n",
            "202/202 [==============================] - 20s 97ms/step - loss: 0.3860 - categorical_accuracy: 0.9248 - val_loss: 0.1484 - val_categorical_accuracy: 0.9597 - lr: 1.0000e-06\n",
            "Epoch 117/150\n",
            "202/202 [==============================] - ETA: 0s - loss: 0.3678 - categorical_accuracy: 0.9287\n",
            "Epoch 117: val_categorical_accuracy did not improve from 0.96567\n",
            "202/202 [==============================] - 20s 98ms/step - loss: 0.3678 - categorical_accuracy: 0.9287 - val_loss: 0.1556 - val_categorical_accuracy: 0.9522 - lr: 1.0000e-06\n",
            "Epoch 118/150\n",
            "202/202 [==============================] - ETA: 0s - loss: 0.3748 - categorical_accuracy: 0.9282\n",
            "Epoch 118: val_categorical_accuracy did not improve from 0.96567\n",
            "202/202 [==============================] - 20s 98ms/step - loss: 0.3748 - categorical_accuracy: 0.9282 - val_loss: 0.1622 - val_categorical_accuracy: 0.9567 - lr: 1.0000e-06\n",
            "Epoch 119/150\n",
            "202/202 [==============================] - ETA: 0s - loss: 0.3593 - categorical_accuracy: 0.9391\n",
            "Epoch 119: val_categorical_accuracy did not improve from 0.96567\n",
            "202/202 [==============================] - 20s 99ms/step - loss: 0.3593 - categorical_accuracy: 0.9391 - val_loss: 0.1544 - val_categorical_accuracy: 0.9642 - lr: 1.0000e-06\n",
            "Epoch 120/150\n",
            "202/202 [==============================] - ETA: 0s - loss: 0.4059 - categorical_accuracy: 0.9069\n",
            "Epoch 120: val_categorical_accuracy did not improve from 0.96567\n",
            "202/202 [==============================] - 20s 101ms/step - loss: 0.4059 - categorical_accuracy: 0.9069 - val_loss: 0.1525 - val_categorical_accuracy: 0.9597 - lr: 1.0000e-07\n",
            "Epoch 121/150\n",
            "202/202 [==============================] - ETA: 0s - loss: 0.4112 - categorical_accuracy: 0.9114\n",
            "Epoch 121: val_categorical_accuracy did not improve from 0.96567\n",
            "202/202 [==============================] - 20s 99ms/step - loss: 0.4112 - categorical_accuracy: 0.9114 - val_loss: 0.1599 - val_categorical_accuracy: 0.9552 - lr: 1.0000e-07\n",
            "Epoch 122/150\n",
            "202/202 [==============================] - ETA: 0s - loss: 0.4013 - categorical_accuracy: 0.9139\n",
            "Epoch 122: val_categorical_accuracy did not improve from 0.96567\n",
            "202/202 [==============================] - 20s 98ms/step - loss: 0.4013 - categorical_accuracy: 0.9139 - val_loss: 0.1621 - val_categorical_accuracy: 0.9552 - lr: 1.0000e-07\n",
            "Epoch 123/150\n",
            "202/202 [==============================] - ETA: 0s - loss: 0.4293 - categorical_accuracy: 0.9079\n",
            "Epoch 123: val_categorical_accuracy did not improve from 0.96567\n",
            "202/202 [==============================] - 20s 98ms/step - loss: 0.4293 - categorical_accuracy: 0.9079 - val_loss: 0.1792 - val_categorical_accuracy: 0.9507 - lr: 1.0000e-07\n",
            "Epoch 124/150\n",
            "202/202 [==============================] - ETA: 0s - loss: 0.3855 - categorical_accuracy: 0.9168\n",
            "Epoch 124: val_categorical_accuracy did not improve from 0.96567\n",
            "202/202 [==============================] - 18s 90ms/step - loss: 0.3855 - categorical_accuracy: 0.9168 - val_loss: 0.1692 - val_categorical_accuracy: 0.9597 - lr: 1.0000e-07\n",
            "Epoch 125/150\n",
            "202/202 [==============================] - ETA: 0s - loss: 0.3725 - categorical_accuracy: 0.9228\n",
            "Epoch 125: val_categorical_accuracy did not improve from 0.96567\n",
            "202/202 [==============================] - 19s 94ms/step - loss: 0.3725 - categorical_accuracy: 0.9228 - val_loss: 0.1536 - val_categorical_accuracy: 0.9582 - lr: 1.0000e-07\n",
            "Epoch 126/150\n",
            "202/202 [==============================] - ETA: 0s - loss: 0.3919 - categorical_accuracy: 0.9218\n",
            "Epoch 126: val_categorical_accuracy did not improve from 0.96567\n",
            "202/202 [==============================] - 20s 98ms/step - loss: 0.3919 - categorical_accuracy: 0.9218 - val_loss: 0.1444 - val_categorical_accuracy: 0.9597 - lr: 1.0000e-07\n",
            "Epoch 127/150\n",
            "202/202 [==============================] - ETA: 0s - loss: 0.3657 - categorical_accuracy: 0.9292\n",
            "Epoch 127: val_categorical_accuracy did not improve from 0.96567\n",
            "202/202 [==============================] - 19s 95ms/step - loss: 0.3657 - categorical_accuracy: 0.9292 - val_loss: 0.1624 - val_categorical_accuracy: 0.9507 - lr: 1.0000e-07\n",
            "Epoch 128/150\n",
            "202/202 [==============================] - ETA: 0s - loss: 0.3735 - categorical_accuracy: 0.9282\n",
            "Epoch 128: val_categorical_accuracy did not improve from 0.96567\n",
            "202/202 [==============================] - 18s 90ms/step - loss: 0.3735 - categorical_accuracy: 0.9282 - val_loss: 0.1514 - val_categorical_accuracy: 0.9612 - lr: 1.0000e-07\n",
            "Epoch 129/150\n",
            "202/202 [==============================] - ETA: 0s - loss: 0.3567 - categorical_accuracy: 0.9396\n",
            "Epoch 129: val_categorical_accuracy did not improve from 0.96567\n",
            "202/202 [==============================] - 19s 94ms/step - loss: 0.3567 - categorical_accuracy: 0.9396 - val_loss: 0.1600 - val_categorical_accuracy: 0.9642 - lr: 1.0000e-07\n",
            "Epoch 130/150\n",
            "202/202 [==============================] - ETA: 0s - loss: 0.4089 - categorical_accuracy: 0.9064\n",
            "Epoch 130: val_categorical_accuracy did not improve from 0.96567\n",
            "202/202 [==============================] - 20s 99ms/step - loss: 0.4089 - categorical_accuracy: 0.9064 - val_loss: 0.1479 - val_categorical_accuracy: 0.9627 - lr: 1.0000e-07\n",
            "Epoch 131/150\n",
            "202/202 [==============================] - ETA: 0s - loss: 0.4077 - categorical_accuracy: 0.9119\n",
            "Epoch 131: val_categorical_accuracy did not improve from 0.96567\n",
            "202/202 [==============================] - 21s 102ms/step - loss: 0.4077 - categorical_accuracy: 0.9119 - val_loss: 0.1734 - val_categorical_accuracy: 0.9507 - lr: 1.0000e-07\n",
            "Epoch 132/150\n",
            "202/202 [==============================] - ETA: 0s - loss: 0.4052 - categorical_accuracy: 0.9139\n",
            "Epoch 132: val_categorical_accuracy did not improve from 0.96567\n",
            "202/202 [==============================] - 20s 97ms/step - loss: 0.4052 - categorical_accuracy: 0.9139 - val_loss: 0.1602 - val_categorical_accuracy: 0.9552 - lr: 1.0000e-07\n",
            "Epoch 133/150\n",
            "202/202 [==============================] - ETA: 0s - loss: 0.4310 - categorical_accuracy: 0.9064\n",
            "Epoch 133: val_categorical_accuracy did not improve from 0.96567\n",
            "202/202 [==============================] - 20s 98ms/step - loss: 0.4310 - categorical_accuracy: 0.9064 - val_loss: 0.1741 - val_categorical_accuracy: 0.9552 - lr: 1.0000e-07\n",
            "Epoch 134/150\n",
            "202/202 [==============================] - ETA: 0s - loss: 0.3861 - categorical_accuracy: 0.9168\n",
            "Epoch 134: val_categorical_accuracy did not improve from 0.96567\n",
            "202/202 [==============================] - 20s 98ms/step - loss: 0.3861 - categorical_accuracy: 0.9168 - val_loss: 0.1710 - val_categorical_accuracy: 0.9567 - lr: 1.0000e-07\n",
            "Epoch 135/150\n",
            "202/202 [==============================] - ETA: 0s - loss: 0.3679 - categorical_accuracy: 0.9238\n",
            "Epoch 135: val_categorical_accuracy did not improve from 0.96567\n",
            "202/202 [==============================] - 20s 98ms/step - loss: 0.3679 - categorical_accuracy: 0.9238 - val_loss: 0.1507 - val_categorical_accuracy: 0.9567 - lr: 1.0000e-07\n",
            "Epoch 136/150\n",
            "202/202 [==============================] - ETA: 0s - loss: 0.3944 - categorical_accuracy: 0.9208\n",
            "Epoch 136: val_categorical_accuracy did not improve from 0.96567\n",
            "202/202 [==============================] - 19s 94ms/step - loss: 0.3944 - categorical_accuracy: 0.9208 - val_loss: 0.1449 - val_categorical_accuracy: 0.9612 - lr: 1.0000e-07\n",
            "Epoch 137/150\n",
            "202/202 [==============================] - ETA: 0s - loss: 0.3657 - categorical_accuracy: 0.9292\n",
            "Epoch 137: val_categorical_accuracy did not improve from 0.96567\n",
            "202/202 [==============================] - 20s 100ms/step - loss: 0.3657 - categorical_accuracy: 0.9292 - val_loss: 0.1592 - val_categorical_accuracy: 0.9537 - lr: 1.0000e-07\n",
            "Epoch 138/150\n",
            "202/202 [==============================] - ETA: 0s - loss: 0.3691 - categorical_accuracy: 0.9302\n",
            "Epoch 138: val_categorical_accuracy did not improve from 0.96567\n",
            "202/202 [==============================] - 19s 93ms/step - loss: 0.3691 - categorical_accuracy: 0.9302 - val_loss: 0.1573 - val_categorical_accuracy: 0.9597 - lr: 1.0000e-07\n",
            "Epoch 139/150\n",
            "202/202 [==============================] - ETA: 0s - loss: 0.3574 - categorical_accuracy: 0.9386\n",
            "Epoch 139: val_categorical_accuracy improved from 0.96567 to 0.96866, saving model to 6bands_weights_v5-5.h5\n",
            "202/202 [==============================] - 20s 100ms/step - loss: 0.3574 - categorical_accuracy: 0.9386 - val_loss: 0.1509 - val_categorical_accuracy: 0.9687 - lr: 1.0000e-07\n",
            "Epoch 140/150\n",
            "202/202 [==============================] - ETA: 0s - loss: 0.4096 - categorical_accuracy: 0.9079\n",
            "Epoch 140: val_categorical_accuracy did not improve from 0.96866\n",
            "202/202 [==============================] - 18s 91ms/step - loss: 0.4096 - categorical_accuracy: 0.9079 - val_loss: 0.1492 - val_categorical_accuracy: 0.9612 - lr: 1.0000e-07\n",
            "Epoch 141/150\n",
            "202/202 [==============================] - ETA: 0s - loss: 0.4076 - categorical_accuracy: 0.9114\n",
            "Epoch 141: val_categorical_accuracy did not improve from 0.96866\n",
            "202/202 [==============================] - 20s 99ms/step - loss: 0.4076 - categorical_accuracy: 0.9114 - val_loss: 0.1848 - val_categorical_accuracy: 0.9478 - lr: 1.0000e-07\n",
            "Epoch 142/150\n",
            "202/202 [==============================] - ETA: 0s - loss: 0.4048 - categorical_accuracy: 0.9139\n",
            "Epoch 142: val_categorical_accuracy did not improve from 0.96866\n",
            "202/202 [==============================] - 20s 100ms/step - loss: 0.4048 - categorical_accuracy: 0.9139 - val_loss: 0.1461 - val_categorical_accuracy: 0.9597 - lr: 1.0000e-07\n",
            "Epoch 143/150\n",
            "202/202 [==============================] - ETA: 0s - loss: 0.4332 - categorical_accuracy: 0.9040\n",
            "Epoch 143: val_categorical_accuracy did not improve from 0.96866\n",
            "202/202 [==============================] - 20s 99ms/step - loss: 0.4332 - categorical_accuracy: 0.9040 - val_loss: 0.1763 - val_categorical_accuracy: 0.9507 - lr: 1.0000e-07\n",
            "Epoch 144/150\n",
            "202/202 [==============================] - ETA: 0s - loss: 0.3829 - categorical_accuracy: 0.9193\n",
            "Epoch 144: val_categorical_accuracy did not improve from 0.96866\n",
            "202/202 [==============================] - 18s 92ms/step - loss: 0.3829 - categorical_accuracy: 0.9193 - val_loss: 0.1730 - val_categorical_accuracy: 0.9567 - lr: 1.0000e-07\n",
            "Epoch 145/150\n",
            "202/202 [==============================] - ETA: 0s - loss: 0.3706 - categorical_accuracy: 0.9228\n",
            "Epoch 145: val_categorical_accuracy did not improve from 0.96866\n",
            "202/202 [==============================] - 19s 96ms/step - loss: 0.3706 - categorical_accuracy: 0.9228 - val_loss: 0.1453 - val_categorical_accuracy: 0.9612 - lr: 1.0000e-07\n",
            "Epoch 146/150\n",
            "202/202 [==============================] - ETA: 0s - loss: 0.3954 - categorical_accuracy: 0.9208\n",
            "Epoch 146: val_categorical_accuracy did not improve from 0.96866\n",
            "202/202 [==============================] - 25s 124ms/step - loss: 0.3954 - categorical_accuracy: 0.9208 - val_loss: 0.1514 - val_categorical_accuracy: 0.9582 - lr: 1.0000e-07\n",
            "Epoch 147/150\n",
            "202/202 [==============================] - ETA: 0s - loss: 0.3669 - categorical_accuracy: 0.9282\n",
            "Epoch 147: val_categorical_accuracy did not improve from 0.96866\n",
            "202/202 [==============================] - 23s 112ms/step - loss: 0.3669 - categorical_accuracy: 0.9282 - val_loss: 0.1576 - val_categorical_accuracy: 0.9522 - lr: 1.0000e-07\n",
            "Epoch 148/150\n",
            "202/202 [==============================] - ETA: 0s - loss: 0.3694 - categorical_accuracy: 0.9307\n",
            "Epoch 148: val_categorical_accuracy did not improve from 0.96866\n",
            "202/202 [==============================] - 20s 99ms/step - loss: 0.3694 - categorical_accuracy: 0.9307 - val_loss: 0.1690 - val_categorical_accuracy: 0.9567 - lr: 1.0000e-07\n",
            "Epoch 149/150\n",
            "202/202 [==============================] - ETA: 0s - loss: 0.3518 - categorical_accuracy: 0.9401\n",
            "Epoch 149: val_categorical_accuracy improved from 0.96866 to 0.97015, saving model to 6bands_weights_v5-5.h5\n",
            "202/202 [==============================] - 20s 99ms/step - loss: 0.3518 - categorical_accuracy: 0.9401 - val_loss: 0.1386 - val_categorical_accuracy: 0.9701 - lr: 1.0000e-07\n",
            "Epoch 150/150\n",
            "202/202 [==============================] - ETA: 0s - loss: 0.4062 - categorical_accuracy: 0.9089\n",
            "Epoch 150: val_categorical_accuracy did not improve from 0.97015\n",
            "202/202 [==============================] - 20s 99ms/step - loss: 0.4062 - categorical_accuracy: 0.9089 - val_loss: 0.1458 - val_categorical_accuracy: 0.9597 - lr: 1.0000e-08\n"
          ]
        }
      ]
    },
    {
      "cell_type": "code",
      "metadata": {
        "id": "E_nMTpvjBfQs",
        "colab": {
          "base_uri": "https://localhost:8080/",
          "height": 337
        },
        "outputId": "d5a72fef-5aab-4902-c300-72cb92d84934"
      },
      "source": [
        "show_final_history(history)"
      ],
      "execution_count": 36,
      "outputs": [
        {
          "output_type": "display_data",
          "data": {
            "text/plain": [
              "<Figure size 1080x360 with 2 Axes>"
            ],
            "image/png": "[encoded data removed]"
          },
          "metadata": {}
        }
      ]
    },
    {
      "cell_type": "code",
      "metadata": {
        "id": "Gvhmnma4BgbH",
        "colab": {
          "base_uri": "https://localhost:8080/",
          "height": 265
        },
        "outputId": "6ce637d0-df85-40f1-eaa7-6a0ba3ea92ff"
      },
      "source": [
        "plot_learning_rate(loss_history)"
      ],
      "execution_count": 37,
      "outputs": [
        {
          "output_type": "display_data",
          "data": {
            "text/plain": [
              "<Figure size 432x288 with 1 Axes>"
            ],
            "image/png": "[encoded data removed]"
          },
          "metadata": {}
        }
      ]
    },
    {
      "cell_type": "code",
      "metadata": {
        "id": "2GzT0N65CFTf"
      },
      "source": [
        "def obtain_tif_images(df):\n",
        "    \n",
        "    num_samples = df.shape[0]\n",
        "    \n",
        "    X, y = [], []\n",
        "    \n",
        "    for i in tqdm(range(num_samples)):\n",
        "        \n",
        "        img_name = df.loc[i,'path']\n",
        "        label = df.loc[i,'Label']\n",
        "    \n",
        "        src = rasterio.open(img_name)\n",
        "        arr_3, arr_4, arr_8 = src.read(bands['3']), src.read(bands['4']), src.read(bands['8']) \n",
        "        arr_6, arr_7 = src.read(bands['6']), src.read(bands['7'])\n",
        "        arr_11 = src.read(bands['11'])\n",
        "\n",
        "        arr_3 = np.array(arr_3, dtype=np.float32)\n",
        "        arr_4 = np.array(arr_4, dtype=np.float32)\n",
        "        arr_6, arr_7 = np.array(arr_6, dtype=np.float32), np.array(arr_7, dtype=np.float32)\n",
        "        arr_8 = np.array(arr_8, dtype=np.float32)\n",
        "        arr_11 = np.array(arr_11, dtype=np.float32)\n",
        "\n",
        "        arr_3 = Normalise(arr_3)\n",
        "        arr_4 = Normalise(arr_4)\n",
        "        arr_6, arr_7 = Normalise(arr_6), Normalise(arr_7)\n",
        "        arr_8 = Normalise(arr_8)\n",
        "        arr_11 = Normalise(arr_11)\n",
        "\n",
        "        bands_10_20 = np.dstack((arr_3, arr_4, arr_6, arr_7, arr_8, arr_11))\n",
        "\n",
        "        X.append(bands_10_20)\n",
        "        y.append(label)\n",
        "        \n",
        "        pass\n",
        "    \n",
        "    X = np.array(X)\n",
        "    y = np.array(y)\n",
        "    \n",
        "    return X,y\n",
        "    pass"
      ],
      "execution_count": 62,
      "outputs": []
    },
    {
      "cell_type": "markdown",
      "source": [
        "**Inferring Validation Set Again Using Stored/Loaded Model**"
      ],
      "metadata": {
        "id": "O0jgiFrseZJK"
      }
    },
    {
      "cell_type": "code",
      "metadata": {
        "id": "txNiC8yzCMyz",
        "colab": {
          "base_uri": "https://localhost:8080/"
        },
        "outputId": "d1d696ce-9b7e-4084-ec1e-b38b3c172512"
      },
      "source": [
        "test_tifs, test_labels = obtain_tif_images(test_df.reset_index())\n",
        "\n",
        "test_labels_encoded = to_categorical(test_labels, num_classes = 10)\n",
        "\n",
        "test_tifs.shape, test_labels.shape, test_labels_encoded.shape"
      ],
      "execution_count": 65,
      "outputs": [
        {
          "output_type": "stream",
          "name": "stderr",
          "text": [
            "100%|██████████| 6750/6750 [00:49<00:00, 137.06it/s]\n"
          ]
        },
        {
          "output_type": "execute_result",
          "data": {
            "text/plain": [
              "((6750, 64, 64, 6), (6750,), (6750, 10))"
            ]
          },
          "metadata": {},
          "execution_count": 65
        }
      ]
    },
    {
      "cell_type": "code",
      "metadata": {
        "id": "zLTm-teiCddM",
        "colab": {
          "base_uri": "https://localhost:8080/"
        },
        "outputId": "4e4947aa-c16e-4dbd-9247-4f4099c211af"
      },
      "source": [
        "test_pred = model.predict(test_tifs)\n",
        "test_pred = np.argmax(test_pred, axis=1)\n",
        "test_pred.shape\n"
      ],
      "execution_count": 66,
      "outputs": [
        {
          "output_type": "stream",
          "name": "stdout",
          "text": [
            "211/211 [==============================] - 3s 11ms/step\n"
          ]
        },
        {
          "output_type": "execute_result",
          "data": {
            "text/plain": [
              "(6750,)"
            ]
          },
          "metadata": {},
          "execution_count": 66
        }
      ]
    },
    {
      "cell_type": "code",
      "metadata": {
        "id": "lRt0GiCDCmeJ",
        "colab": {
          "base_uri": "https://localhost:8080/",
          "height": 663
        },
        "outputId": "2ba4bbd8-5268-4cd7-d48c-72e76ca05b92"
      },
      "source": [
        "cnf_mat = confusion_matrix(test_labels, test_pred)\n",
        "\n",
        "plot_confusion_matrix(cnf_mat, classes=list(mapping.keys()), title=\"6 Bands Confusion Matrix - V5-5\")\n",
        "plt.grid(False);"
      ],
      "execution_count": 67,
      "outputs": [
        {
          "output_type": "display_data",
          "data": {
            "text/plain": [
              "<Figure size 720x720 with 2 Axes>"
            ],
            "image/png": "[encoded data removed]"
          },
          "metadata": {}
        }
      ]
    },
    {
      "cell_type": "code",
      "metadata": {
        "id": "_GDAmUkMCwXc",
        "colab": {
          "base_uri": "https://localhost:8080/"
        },
        "outputId": "2cd675f1-b403-4f47-d3d9-ac83ed71a783"
      },
      "source": [
        "for f1,class_name in zip(f1_score(test_labels, test_pred, average=None), list(mapping.keys())):\n",
        "    print(\"Class name: {}, F1 score: {:.3f}\".format(class_name, f1))\n",
        "    pass\n"
      ],
      "execution_count": 68,
      "outputs": [
        {
          "output_type": "stream",
          "name": "stdout",
          "text": [
            "Class name: PermanentCrop, F1 score: 0.901\n",
            "Class name: HerbaceousVegetation, F1 score: 0.913\n",
            "Class name: Highway, F1 score: 0.930\n",
            "Class name: Forest, F1 score: 0.991\n",
            "Class name: River, F1 score: 0.975\n",
            "Class name: Residential, F1 score: 0.989\n",
            "Class name: Pasture, F1 score: 0.948\n",
            "Class name: AnnualCrop, F1 score: 0.956\n",
            "Class name: SeaLake, F1 score: 0.990\n",
            "Class name: Industrial, F1 score: 0.967\n"
          ]
        }
      ]
    }
  ]
}